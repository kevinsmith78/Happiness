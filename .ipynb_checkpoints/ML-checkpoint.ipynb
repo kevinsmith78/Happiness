{
 "cells": [
  {
   "cell_type": "code",
   "execution_count": 339,
   "id": "unauthorized-swing",
   "metadata": {},
   "outputs": [],
   "source": [
    "%matplotlib inline\n",
    "import matplotlib.pyplot as plt\n",
    "from sklearn import tree\n",
    "from sklearn import metrics\n",
    "import seaborn as sns\n",
    "import pandas as pd\n",
    "import numpy as np\n",
    "import os\n",
    "from sklearn import preprocessing\n",
    "from sklearn.model_selection import train_test_split\n",
    "from sklearn.linear_model import LinearRegression\n",
    "from sklearn.ensemble import RandomForestClassifier"
   ]
  },
  {
   "cell_type": "code",
   "execution_count": 247,
   "id": "african-calcium",
   "metadata": {
    "scrolled": false
   },
   "outputs": [
    {
     "data": {
      "text/html": [
       "<div>\n",
       "<style scoped>\n",
       "    .dataframe tbody tr th:only-of-type {\n",
       "        vertical-align: middle;\n",
       "    }\n",
       "\n",
       "    .dataframe tbody tr th {\n",
       "        vertical-align: top;\n",
       "    }\n",
       "\n",
       "    .dataframe thead th {\n",
       "        text-align: right;\n",
       "    }\n",
       "</style>\n",
       "<table border=\"1\" class=\"dataframe\">\n",
       "  <thead>\n",
       "    <tr style=\"text-align: right;\">\n",
       "      <th></th>\n",
       "      <th>Overall rank</th>\n",
       "      <th>Country or region</th>\n",
       "      <th>Score</th>\n",
       "      <th>GDP per capita</th>\n",
       "      <th>Social support</th>\n",
       "      <th>Healthy life expectancy</th>\n",
       "      <th>Freedom to make life choices</th>\n",
       "      <th>Generosity</th>\n",
       "      <th>Perceptions of corruption</th>\n",
       "    </tr>\n",
       "  </thead>\n",
       "  <tbody>\n",
       "    <tr>\n",
       "      <th>0</th>\n",
       "      <td>1</td>\n",
       "      <td>Finland</td>\n",
       "      <td>7.769</td>\n",
       "      <td>1.340</td>\n",
       "      <td>1.587</td>\n",
       "      <td>0.986</td>\n",
       "      <td>0.596</td>\n",
       "      <td>0.153</td>\n",
       "      <td>0.393</td>\n",
       "    </tr>\n",
       "    <tr>\n",
       "      <th>1</th>\n",
       "      <td>2</td>\n",
       "      <td>Denmark</td>\n",
       "      <td>7.600</td>\n",
       "      <td>1.383</td>\n",
       "      <td>1.573</td>\n",
       "      <td>0.996</td>\n",
       "      <td>0.592</td>\n",
       "      <td>0.252</td>\n",
       "      <td>0.410</td>\n",
       "    </tr>\n",
       "    <tr>\n",
       "      <th>2</th>\n",
       "      <td>3</td>\n",
       "      <td>Norway</td>\n",
       "      <td>7.554</td>\n",
       "      <td>1.488</td>\n",
       "      <td>1.582</td>\n",
       "      <td>1.028</td>\n",
       "      <td>0.603</td>\n",
       "      <td>0.271</td>\n",
       "      <td>0.341</td>\n",
       "    </tr>\n",
       "    <tr>\n",
       "      <th>3</th>\n",
       "      <td>4</td>\n",
       "      <td>Iceland</td>\n",
       "      <td>7.494</td>\n",
       "      <td>1.380</td>\n",
       "      <td>1.624</td>\n",
       "      <td>1.026</td>\n",
       "      <td>0.591</td>\n",
       "      <td>0.354</td>\n",
       "      <td>0.118</td>\n",
       "    </tr>\n",
       "    <tr>\n",
       "      <th>4</th>\n",
       "      <td>5</td>\n",
       "      <td>Netherlands</td>\n",
       "      <td>7.488</td>\n",
       "      <td>1.396</td>\n",
       "      <td>1.522</td>\n",
       "      <td>0.999</td>\n",
       "      <td>0.557</td>\n",
       "      <td>0.322</td>\n",
       "      <td>0.298</td>\n",
       "    </tr>\n",
       "    <tr>\n",
       "      <th>...</th>\n",
       "      <td>...</td>\n",
       "      <td>...</td>\n",
       "      <td>...</td>\n",
       "      <td>...</td>\n",
       "      <td>...</td>\n",
       "      <td>...</td>\n",
       "      <td>...</td>\n",
       "      <td>...</td>\n",
       "      <td>...</td>\n",
       "    </tr>\n",
       "    <tr>\n",
       "      <th>151</th>\n",
       "      <td>152</td>\n",
       "      <td>Rwanda</td>\n",
       "      <td>3.334</td>\n",
       "      <td>0.359</td>\n",
       "      <td>0.711</td>\n",
       "      <td>0.614</td>\n",
       "      <td>0.555</td>\n",
       "      <td>0.217</td>\n",
       "      <td>0.411</td>\n",
       "    </tr>\n",
       "    <tr>\n",
       "      <th>152</th>\n",
       "      <td>153</td>\n",
       "      <td>Tanzania</td>\n",
       "      <td>3.231</td>\n",
       "      <td>0.476</td>\n",
       "      <td>0.885</td>\n",
       "      <td>0.499</td>\n",
       "      <td>0.417</td>\n",
       "      <td>0.276</td>\n",
       "      <td>0.147</td>\n",
       "    </tr>\n",
       "    <tr>\n",
       "      <th>153</th>\n",
       "      <td>154</td>\n",
       "      <td>Afghanistan</td>\n",
       "      <td>3.203</td>\n",
       "      <td>0.350</td>\n",
       "      <td>0.517</td>\n",
       "      <td>0.361</td>\n",
       "      <td>0.000</td>\n",
       "      <td>0.158</td>\n",
       "      <td>0.025</td>\n",
       "    </tr>\n",
       "    <tr>\n",
       "      <th>154</th>\n",
       "      <td>155</td>\n",
       "      <td>Central African Republic</td>\n",
       "      <td>3.083</td>\n",
       "      <td>0.026</td>\n",
       "      <td>0.000</td>\n",
       "      <td>0.105</td>\n",
       "      <td>0.225</td>\n",
       "      <td>0.235</td>\n",
       "      <td>0.035</td>\n",
       "    </tr>\n",
       "    <tr>\n",
       "      <th>155</th>\n",
       "      <td>156</td>\n",
       "      <td>South Sudan</td>\n",
       "      <td>2.853</td>\n",
       "      <td>0.306</td>\n",
       "      <td>0.575</td>\n",
       "      <td>0.295</td>\n",
       "      <td>0.010</td>\n",
       "      <td>0.202</td>\n",
       "      <td>0.091</td>\n",
       "    </tr>\n",
       "  </tbody>\n",
       "</table>\n",
       "<p>156 rows × 9 columns</p>\n",
       "</div>"
      ],
      "text/plain": [
       "     Overall rank         Country or region  Score  GDP per capita  \\\n",
       "0               1                   Finland  7.769           1.340   \n",
       "1               2                   Denmark  7.600           1.383   \n",
       "2               3                    Norway  7.554           1.488   \n",
       "3               4                   Iceland  7.494           1.380   \n",
       "4               5               Netherlands  7.488           1.396   \n",
       "..            ...                       ...    ...             ...   \n",
       "151           152                    Rwanda  3.334           0.359   \n",
       "152           153                  Tanzania  3.231           0.476   \n",
       "153           154               Afghanistan  3.203           0.350   \n",
       "154           155  Central African Republic  3.083           0.026   \n",
       "155           156               South Sudan  2.853           0.306   \n",
       "\n",
       "     Social support  Healthy life expectancy  Freedom to make life choices  \\\n",
       "0             1.587                    0.986                         0.596   \n",
       "1             1.573                    0.996                         0.592   \n",
       "2             1.582                    1.028                         0.603   \n",
       "3             1.624                    1.026                         0.591   \n",
       "4             1.522                    0.999                         0.557   \n",
       "..              ...                      ...                           ...   \n",
       "151           0.711                    0.614                         0.555   \n",
       "152           0.885                    0.499                         0.417   \n",
       "153           0.517                    0.361                         0.000   \n",
       "154           0.000                    0.105                         0.225   \n",
       "155           0.575                    0.295                         0.010   \n",
       "\n",
       "     Generosity  Perceptions of corruption  \n",
       "0         0.153                      0.393  \n",
       "1         0.252                      0.410  \n",
       "2         0.271                      0.341  \n",
       "3         0.354                      0.118  \n",
       "4         0.322                      0.298  \n",
       "..          ...                        ...  \n",
       "151       0.217                      0.411  \n",
       "152       0.276                      0.147  \n",
       "153       0.158                      0.025  \n",
       "154       0.235                      0.035  \n",
       "155       0.202                      0.091  \n",
       "\n",
       "[156 rows x 9 columns]"
      ]
     },
     "execution_count": 247,
     "metadata": {},
     "output_type": "execute_result"
    }
   ],
   "source": [
    "df = pd.read_csv(os.path.join(\"Data\", \"2019.csv\"))\n",
    "df"
   ]
  },
  {
   "cell_type": "code",
   "execution_count": 248,
   "id": "dietary-peoples",
   "metadata": {
    "scrolled": true
   },
   "outputs": [
    {
     "data": {
      "text/html": [
       "<div>\n",
       "<style scoped>\n",
       "    .dataframe tbody tr th:only-of-type {\n",
       "        vertical-align: middle;\n",
       "    }\n",
       "\n",
       "    .dataframe tbody tr th {\n",
       "        vertical-align: top;\n",
       "    }\n",
       "\n",
       "    .dataframe thead th {\n",
       "        text-align: right;\n",
       "    }\n",
       "</style>\n",
       "<table border=\"1\" class=\"dataframe\">\n",
       "  <thead>\n",
       "    <tr style=\"text-align: right;\">\n",
       "      <th></th>\n",
       "      <th>Overall rank</th>\n",
       "      <th>Score</th>\n",
       "      <th>GDP per capita</th>\n",
       "      <th>Social support</th>\n",
       "      <th>Healthy life expectancy</th>\n",
       "      <th>Freedom to make life choices</th>\n",
       "      <th>Generosity</th>\n",
       "      <th>Perceptions of corruption</th>\n",
       "    </tr>\n",
       "  </thead>\n",
       "  <tbody>\n",
       "    <tr>\n",
       "      <th>count</th>\n",
       "      <td>156.000000</td>\n",
       "      <td>156.000000</td>\n",
       "      <td>156.000000</td>\n",
       "      <td>156.000000</td>\n",
       "      <td>156.000000</td>\n",
       "      <td>156.000000</td>\n",
       "      <td>156.000000</td>\n",
       "      <td>156.000000</td>\n",
       "    </tr>\n",
       "    <tr>\n",
       "      <th>mean</th>\n",
       "      <td>78.500000</td>\n",
       "      <td>5.407096</td>\n",
       "      <td>0.905147</td>\n",
       "      <td>1.208814</td>\n",
       "      <td>0.725244</td>\n",
       "      <td>0.392571</td>\n",
       "      <td>0.184846</td>\n",
       "      <td>0.110603</td>\n",
       "    </tr>\n",
       "    <tr>\n",
       "      <th>std</th>\n",
       "      <td>45.177428</td>\n",
       "      <td>1.113120</td>\n",
       "      <td>0.398389</td>\n",
       "      <td>0.299191</td>\n",
       "      <td>0.242124</td>\n",
       "      <td>0.143289</td>\n",
       "      <td>0.095254</td>\n",
       "      <td>0.094538</td>\n",
       "    </tr>\n",
       "    <tr>\n",
       "      <th>min</th>\n",
       "      <td>1.000000</td>\n",
       "      <td>2.853000</td>\n",
       "      <td>0.000000</td>\n",
       "      <td>0.000000</td>\n",
       "      <td>0.000000</td>\n",
       "      <td>0.000000</td>\n",
       "      <td>0.000000</td>\n",
       "      <td>0.000000</td>\n",
       "    </tr>\n",
       "    <tr>\n",
       "      <th>25%</th>\n",
       "      <td>39.750000</td>\n",
       "      <td>4.544500</td>\n",
       "      <td>0.602750</td>\n",
       "      <td>1.055750</td>\n",
       "      <td>0.547750</td>\n",
       "      <td>0.308000</td>\n",
       "      <td>0.108750</td>\n",
       "      <td>0.047000</td>\n",
       "    </tr>\n",
       "    <tr>\n",
       "      <th>50%</th>\n",
       "      <td>78.500000</td>\n",
       "      <td>5.379500</td>\n",
       "      <td>0.960000</td>\n",
       "      <td>1.271500</td>\n",
       "      <td>0.789000</td>\n",
       "      <td>0.417000</td>\n",
       "      <td>0.177500</td>\n",
       "      <td>0.085500</td>\n",
       "    </tr>\n",
       "    <tr>\n",
       "      <th>75%</th>\n",
       "      <td>117.250000</td>\n",
       "      <td>6.184500</td>\n",
       "      <td>1.232500</td>\n",
       "      <td>1.452500</td>\n",
       "      <td>0.881750</td>\n",
       "      <td>0.507250</td>\n",
       "      <td>0.248250</td>\n",
       "      <td>0.141250</td>\n",
       "    </tr>\n",
       "    <tr>\n",
       "      <th>max</th>\n",
       "      <td>156.000000</td>\n",
       "      <td>7.769000</td>\n",
       "      <td>1.684000</td>\n",
       "      <td>1.624000</td>\n",
       "      <td>1.141000</td>\n",
       "      <td>0.631000</td>\n",
       "      <td>0.566000</td>\n",
       "      <td>0.453000</td>\n",
       "    </tr>\n",
       "  </tbody>\n",
       "</table>\n",
       "</div>"
      ],
      "text/plain": [
       "       Overall rank       Score  GDP per capita  Social support  \\\n",
       "count    156.000000  156.000000      156.000000      156.000000   \n",
       "mean      78.500000    5.407096        0.905147        1.208814   \n",
       "std       45.177428    1.113120        0.398389        0.299191   \n",
       "min        1.000000    2.853000        0.000000        0.000000   \n",
       "25%       39.750000    4.544500        0.602750        1.055750   \n",
       "50%       78.500000    5.379500        0.960000        1.271500   \n",
       "75%      117.250000    6.184500        1.232500        1.452500   \n",
       "max      156.000000    7.769000        1.684000        1.624000   \n",
       "\n",
       "       Healthy life expectancy  Freedom to make life choices  Generosity  \\\n",
       "count               156.000000                    156.000000  156.000000   \n",
       "mean                  0.725244                      0.392571    0.184846   \n",
       "std                   0.242124                      0.143289    0.095254   \n",
       "min                   0.000000                      0.000000    0.000000   \n",
       "25%                   0.547750                      0.308000    0.108750   \n",
       "50%                   0.789000                      0.417000    0.177500   \n",
       "75%                   0.881750                      0.507250    0.248250   \n",
       "max                   1.141000                      0.631000    0.566000   \n",
       "\n",
       "       Perceptions of corruption  \n",
       "count                 156.000000  \n",
       "mean                    0.110603  \n",
       "std                     0.094538  \n",
       "min                     0.000000  \n",
       "25%                     0.047000  \n",
       "50%                     0.085500  \n",
       "75%                     0.141250  \n",
       "max                     0.453000  "
      ]
     },
     "execution_count": 248,
     "metadata": {},
     "output_type": "execute_result"
    }
   ],
   "source": [
    "df.describe()"
   ]
  },
  {
   "cell_type": "code",
   "execution_count": 249,
   "id": "threaded-canberra",
   "metadata": {},
   "outputs": [],
   "source": [
    "data = df.drop([\"Country or region\", \"Overall rank\", \"Score\"], axis=1)"
   ]
  },
  {
   "cell_type": "code",
   "execution_count": 337,
   "id": "bound-feelings",
   "metadata": {},
   "outputs": [],
   "source": [
    "d1 = df.drop([\"Country or region\", \"Overall rank\"], axis=1)"
   ]
  },
  {
   "cell_type": "code",
   "execution_count": 261,
   "id": "korean-indonesian",
   "metadata": {
    "scrolled": false
   },
   "outputs": [
    {
     "data": {
      "image/png": "[encoded data removed]",
      "text/plain": [
       "<Figure size 432x288 with 1 Axes>"
      ]
     },
     "metadata": {
      "needs_background": "light"
     },
     "output_type": "display_data"
    }
   ],
   "source": [
    "df.plot(x=\"Score\", y=\"GDP per capita\", style = \"o\")\n",
    "plt.xlabel(\"Score\")\n",
    "plt.ylabel(\"GDP per Capita\")\n",
    "plt.show()"
   ]
  },
  {
   "cell_type": "code",
   "execution_count": 277,
   "id": "amazing-buffalo",
   "metadata": {
    "scrolled": true
   },
   "outputs": [
    {
     "data": {
      "image/png": "[encoded data removed]",
      "text/plain": [
       "<Figure size 432x288 with 1 Axes>"
      ]
     },
     "metadata": {
      "needs_background": "light"
     },
     "output_type": "display_data"
    }
   ],
   "source": [
    "df.plot(x=\"Score\", y=\"Social support\", style = \"o\")\n",
    "plt.xlabel(\"Score\")\n",
    "plt.ylabel(\"Social support\")\n",
    "plt.show()"
   ]
  },
  {
   "cell_type": "code",
   "execution_count": 278,
   "id": "cardiovascular-saver",
   "metadata": {},
   "outputs": [
    {
     "data": {
      "image/png": "[encoded data removed]",
      "text/plain": [
       "<Figure size 432x288 with 1 Axes>"
      ]
     },
     "metadata": {
      "needs_background": "light"
     },
     "output_type": "display_data"
    }
   ],
   "source": [
    "df.plot(x=\"Score\", y=\"Healthy life expectancy\", style = \"o\")\n",
    "plt.xlabel(\"Score\")\n",
    "plt.ylabel(\"Healthy life expectancy\")\n",
    "plt.show()"
   ]
  },
  {
   "cell_type": "code",
   "execution_count": 279,
   "id": "cardiac-lesbian",
   "metadata": {},
   "outputs": [
    {
     "data": {
      "image/png": "[encoded data removed]",
      "text/plain": [
       "<Figure size 432x288 with 1 Axes>"
      ]
     },
     "metadata": {
      "needs_background": "light"
     },
     "output_type": "display_data"
    }
   ],
   "source": [
    "df.plot(x=\"Score\", y=\"Freedom to make life choices\", style = \"o\")\n",
    "plt.xlabel(\"Score\")\n",
    "plt.ylabel(\"Freedom to make life choices\")\n",
    "plt.show()"
   ]
  },
  {
   "cell_type": "code",
   "execution_count": 280,
   "id": "electrical-austin",
   "metadata": {},
   "outputs": [
    {
     "data": {
      "image/png": "[encoded data removed]",
      "text/plain": [
       "<Figure size 432x288 with 1 Axes>"
      ]
     },
     "metadata": {
      "needs_background": "light"
     },
     "output_type": "display_data"
    }
   ],
   "source": [
    "df.plot(x=\"Score\", y=\"Generosity\", style = \"o\")\n",
    "plt.xlabel(\"Score\")\n",
    "plt.ylabel(\"Generosity\")\n",
    "plt.show()"
   ]
  },
  {
   "cell_type": "code",
   "execution_count": 281,
   "id": "direct-pastor",
   "metadata": {},
   "outputs": [
    {
     "data": {
      "image/png": "[encoded data removed]",
      "text/plain": [
       "<Figure size 432x288 with 1 Axes>"
      ]
     },
     "metadata": {
      "needs_background": "light"
     },
     "output_type": "display_data"
    }
   ],
   "source": [
    "df.plot(x=\"Score\", y=\"Perceptions of corruption\", style = \"o\")\n",
    "plt.xlabel(\"Score\")\n",
    "plt.ylabel(\"Perceptions of corruption\")\n",
    "plt.show()"
   ]
  },
  {
   "cell_type": "code",
   "execution_count": 282,
   "id": "fifth-connectivity",
   "metadata": {},
   "outputs": [
    {
     "data": {
      "text/plain": [
       "Index(['GDP per capita', 'Social support', 'Healthy life expectancy',\n",
       "       'Freedom to make life choices', 'Generosity',\n",
       "       'Perceptions of corruption'],\n",
       "      dtype='object')"
      ]
     },
     "execution_count": 282,
     "metadata": {},
     "output_type": "execute_result"
    }
   ],
   "source": [
    "data.columns"
   ]
  },
  {
   "cell_type": "code",
   "execution_count": 262,
   "id": "collective-amazon",
   "metadata": {},
   "outputs": [
    {
     "name": "stdout",
     "output_type": "stream",
     "text": [
      "[[1.34  1.587 0.986 0.596 0.153 0.393]\n",
      " [1.383 1.573 0.996 0.592 0.252 0.41 ]\n",
      " [1.488 1.582 1.028 0.603 0.271 0.341]\n",
      " [1.38  1.624 1.026 0.591 0.354 0.118]\n",
      " [1.396 1.522 0.999 0.557 0.322 0.298]\n",
      " [1.452 1.526 1.052 0.572 0.263 0.343]\n",
      " [1.387 1.487 1.009 0.574 0.267 0.373]\n",
      " [1.303 1.557 1.026 0.585 0.33  0.38 ]\n",
      " [1.365 1.505 1.039 0.584 0.285 0.308]\n",
      " [1.376 1.475 1.016 0.532 0.244 0.226]\n",
      " [1.372 1.548 1.036 0.557 0.332 0.29 ]\n",
      " [1.034 1.441 0.963 0.558 0.144 0.093]\n",
      " [1.276 1.455 1.029 0.371 0.261 0.082]\n",
      " [1.609 1.479 1.012 0.526 0.194 0.316]\n",
      " [1.333 1.538 0.996 0.45  0.348 0.278]\n",
      " [1.499 1.553 0.999 0.516 0.298 0.31 ]\n",
      " [1.373 1.454 0.987 0.495 0.261 0.265]\n",
      " [1.356 1.504 0.986 0.473 0.16  0.21 ]\n",
      " [1.433 1.457 0.874 0.454 0.28  0.128]\n",
      " [1.269 1.487 0.92  0.457 0.046 0.036]\n",
      " [1.503 1.31  0.825 0.598 0.262 0.182]\n",
      " [1.3   1.52  0.999 0.564 0.375 0.151]\n",
      " [1.07  1.323 0.861 0.433 0.074 0.073]\n",
      " [1.324 1.472 1.045 0.436 0.111 0.183]\n",
      " [1.368 1.43  0.914 0.351 0.242 0.097]\n",
      " [1.159 1.369 0.92  0.357 0.187 0.056]\n",
      " [0.8   1.269 0.746 0.535 0.175 0.078]\n",
      " [1.403 1.357 0.795 0.439 0.08  0.132]\n",
      " [1.684 1.313 0.871 0.555 0.22  0.167]\n",
      " [1.286 1.484 1.062 0.362 0.153 0.079]\n",
      " [1.149 1.442 0.91  0.516 0.109 0.054]\n",
      " [1.004 1.439 0.802 0.39  0.099 0.086]\n",
      " [1.124 1.465 0.891 0.523 0.127 0.15 ]\n",
      " [1.572 1.463 1.141 0.556 0.271 0.453]\n",
      " [0.794 1.242 0.789 0.43  0.093 0.074]\n",
      " [1.294 1.488 1.039 0.231 0.158 0.03 ]\n",
      " [1.362 1.368 0.871 0.536 0.255 0.11 ]\n",
      " [1.246 1.504 0.881 0.334 0.121 0.014]\n",
      " [1.231 1.477 0.713 0.489 0.185 0.016]\n",
      " [1.206 1.438 0.884 0.483 0.117 0.05 ]\n",
      " [0.745 1.529 0.756 0.631 0.322 0.24 ]\n",
      " [1.238 1.515 0.818 0.291 0.043 0.042]\n",
      " [0.985 1.41  0.841 0.47  0.099 0.034]\n",
      " [1.258 1.523 0.953 0.564 0.144 0.057]\n",
      " [0.694 1.325 0.835 0.435 0.2   0.127]\n",
      " [0.882 1.232 0.758 0.489 0.262 0.006]\n",
      " [1.092 1.432 0.881 0.471 0.066 0.05 ]\n",
      " [1.162 1.232 0.825 0.462 0.083 0.005]\n",
      " [1.263 1.223 1.042 0.406 0.19  0.041]\n",
      " [0.912 1.312 0.868 0.498 0.126 0.087]\n",
      " [1.5   1.319 0.808 0.493 0.142 0.097]\n",
      " [1.05  1.409 0.828 0.557 0.359 0.028]\n",
      " [1.187 1.465 0.812 0.264 0.075 0.064]\n",
      " [1.301 1.219 1.036 0.159 0.175 0.056]\n",
      " [1.237 1.528 0.874 0.495 0.103 0.161]\n",
      " [0.831 1.478 0.831 0.49  0.107 0.028]\n",
      " [1.12  1.402 0.798 0.498 0.215 0.06 ]\n",
      " [1.327 1.419 1.088 0.445 0.069 0.14 ]\n",
      " [0.642 1.236 0.828 0.507 0.246 0.078]\n",
      " [1.173 1.508 0.729 0.41  0.146 0.096]\n",
      " [0.776 1.209 0.706 0.511 0.137 0.064]\n",
      " [1.201 1.41  0.828 0.199 0.081 0.02 ]\n",
      " [0.855 1.475 0.777 0.514 0.184 0.08 ]\n",
      " [1.263 1.252 1.042 0.417 0.191 0.162]\n",
      " [0.96  1.274 0.854 0.455 0.083 0.027]\n",
      " [1.221 1.431 0.999 0.508 0.047 0.025]\n",
      " [0.677 0.886 0.535 0.313 0.22  0.098]\n",
      " [1.183 1.452 0.726 0.334 0.082 0.031]\n",
      " [0.807 1.293 0.657 0.558 0.117 0.107]\n",
      " [1.004 1.383 0.854 0.282 0.137 0.039]\n",
      " [0.685 1.328 0.739 0.245 0.181 0.   ]\n",
      " [1.044 1.303 0.673 0.416 0.133 0.152]\n",
      " [1.051 1.361 0.871 0.197 0.142 0.08 ]\n",
      " [0.493 1.098 0.718 0.389 0.23  0.144]\n",
      " [1.155 1.266 0.914 0.296 0.119 0.022]\n",
      " [1.438 1.277 1.122 0.44  0.258 0.287]\n",
      " [1.015 1.401 0.779 0.497 0.113 0.101]\n",
      " [0.945 1.212 0.845 0.212 0.263 0.006]\n",
      " [1.183 1.36  0.808 0.195 0.083 0.106]\n",
      " [1.221 1.171 0.828 0.508 0.26  0.024]\n",
      " [1.067 1.465 0.789 0.235 0.094 0.142]\n",
      " [1.181 1.156 0.999 0.067 0.    0.034]\n",
      " [0.948 1.531 0.667 0.317 0.235 0.038]\n",
      " [0.983 1.294 0.838 0.345 0.185 0.034]\n",
      " [0.696 1.111 0.245 0.426 0.215 0.041]\n",
      " [0.551 1.438 0.723 0.508 0.3   0.023]\n",
      " [1.052 1.538 0.657 0.394 0.244 0.028]\n",
      " [1.002 1.16  0.785 0.086 0.073 0.114]\n",
      " [0.801 0.782 0.782 0.418 0.036 0.076]\n",
      " [1.043 1.147 0.769 0.351 0.035 0.182]\n",
      " [0.987 1.224 0.815 0.216 0.166 0.027]\n",
      " [0.931 1.203 0.66  0.491 0.498 0.028]\n",
      " [1.029 1.125 0.893 0.521 0.058 0.1  ]\n",
      " [0.741 1.346 0.851 0.543 0.147 0.073]\n",
      " [0.813 1.321 0.604 0.457 0.37  0.167]\n",
      " [0.549 0.91  0.331 0.381 0.187 0.037]\n",
      " [1.092 1.513 0.815 0.311 0.081 0.004]\n",
      " [0.611 0.868 0.486 0.381 0.245 0.04 ]\n",
      " [0.569 0.808 0.232 0.352 0.154 0.09 ]\n",
      " [0.446 1.226 0.677 0.439 0.285 0.089]\n",
      " [0.837 1.225 0.815 0.383 0.11  0.13 ]\n",
      " [0.393 0.437 0.397 0.349 0.175 0.082]\n",
      " [0.673 0.799 0.508 0.372 0.105 0.093]\n",
      " [1.057 1.183 0.571 0.295 0.043 0.055]\n",
      " [0.764 1.03  0.551 0.547 0.266 0.164]\n",
      " [0.96  1.351 0.469 0.389 0.13  0.055]\n",
      " [0.947 0.848 0.874 0.383 0.178 0.027]\n",
      " [0.96  1.427 0.805 0.154 0.064 0.047]\n",
      " [0.574 1.122 0.637 0.609 0.232 0.062]\n",
      " [0.657 1.247 0.672 0.225 0.103 0.066]\n",
      " [0.45  1.134 0.571 0.292 0.153 0.072]\n",
      " [0.    0.698 0.268 0.559 0.243 0.27 ]\n",
      " [0.879 1.313 0.477 0.401 0.07  0.056]\n",
      " [0.138 0.774 0.366 0.318 0.188 0.102]\n",
      " [0.331 1.056 0.38  0.255 0.177 0.113]\n",
      " [0.85  1.055 0.815 0.283 0.095 0.064]\n",
      " [1.1   0.842 0.785 0.305 0.27  0.125]\n",
      " [0.38  0.829 0.375 0.332 0.207 0.086]\n",
      " [0.886 0.666 0.752 0.346 0.043 0.164]\n",
      " [0.308 0.939 0.428 0.382 0.269 0.167]\n",
      " [0.512 0.983 0.581 0.431 0.372 0.053]\n",
      " [0.57  1.167 0.489 0.066 0.106 0.088]\n",
      " [0.204 0.986 0.39  0.494 0.197 0.138]\n",
      " [0.921 1.    0.815 0.167 0.059 0.055]\n",
      " [0.562 0.928 0.723 0.527 0.166 0.143]\n",
      " [1.043 0.98  0.574 0.241 0.148 0.089]\n",
      " [0.094 1.125 0.357 0.269 0.212 0.053]\n",
      " [0.385 1.105 0.308 0.327 0.153 0.052]\n",
      " [0.268 0.841 0.242 0.309 0.252 0.045]\n",
      " [0.949 1.265 0.831 0.47  0.244 0.047]\n",
      " [0.71  1.181 0.555 0.525 0.566 0.172]\n",
      " [0.35  0.766 0.192 0.174 0.198 0.078]\n",
      " [0.82  1.39  0.739 0.178 0.187 0.01 ]\n",
      " [0.336 1.033 0.532 0.344 0.209 0.1  ]\n",
      " [0.811 1.149 0.    0.313 0.074 0.135]\n",
      " [0.332 1.069 0.443 0.356 0.252 0.06 ]\n",
      " [0.913 1.039 0.644 0.241 0.076 0.067]\n",
      " [0.578 1.058 0.426 0.431 0.247 0.087]\n",
      " [0.275 0.572 0.41  0.293 0.177 0.085]\n",
      " [0.755 0.765 0.588 0.498 0.2   0.085]\n",
      " [0.073 0.922 0.443 0.37  0.233 0.033]\n",
      " [0.274 0.757 0.505 0.142 0.275 0.078]\n",
      " [0.274 0.916 0.555 0.148 0.169 0.041]\n",
      " [0.489 1.169 0.168 0.359 0.107 0.093]\n",
      " [0.046 0.447 0.38  0.22  0.176 0.18 ]\n",
      " [0.366 1.114 0.433 0.361 0.151 0.089]\n",
      " [0.323 0.688 0.449 0.026 0.419 0.11 ]\n",
      " [1.041 1.145 0.538 0.455 0.025 0.1  ]\n",
      " [0.619 0.378 0.44  0.013 0.331 0.141]\n",
      " [0.191 0.56  0.495 0.443 0.218 0.089]\n",
      " [0.287 1.163 0.463 0.143 0.108 0.077]\n",
      " [0.359 0.711 0.614 0.555 0.217 0.411]\n",
      " [0.476 0.885 0.499 0.417 0.276 0.147]\n",
      " [0.35  0.517 0.361 0.    0.158 0.025]\n",
      " [0.026 0.    0.105 0.225 0.235 0.035]\n",
      " [0.306 0.575 0.295 0.01  0.202 0.091]]\n",
      "[7.769 7.6   7.554 7.494 7.488 7.48  7.343 7.307 7.278 7.246 7.228 7.167\n",
      " 7.139 7.09  7.054 7.021 6.985 6.923 6.892 6.852 6.825 6.726 6.595 6.592\n",
      " 6.446 6.444 6.436 6.375 6.374 6.354 6.321 6.3   6.293 6.262 6.253 6.223\n",
      " 6.199 6.198 6.192 6.182 6.174 6.149 6.125 6.118 6.105 6.1   6.086 6.07\n",
      " 6.046 6.028 6.021 6.008 5.94  5.895 5.893 5.89  5.888 5.886 5.86  5.809\n",
      " 5.779 5.758 5.743 5.718 5.697 5.693 5.653 5.648 5.631 5.603 5.529 5.525\n",
      " 5.523 5.467 5.432 5.43  5.425 5.386 5.373 5.339 5.323 5.287 5.285 5.274\n",
      " 5.265 5.261 5.247 5.211 5.208 5.208 5.197 5.192 5.191 5.175 5.082 5.044\n",
      " 5.011 4.996 4.944 4.913 4.906 4.883 4.812 4.799 4.796 4.722 4.719 4.707\n",
      " 4.7   4.696 4.681 4.668 4.639 4.628 4.587 4.559 4.548 4.534 4.519 4.516\n",
      " 4.509 4.49  4.466 4.461 4.456 4.437 4.418 4.39  4.374 4.366 4.36  4.35\n",
      " 4.332 4.286 4.212 4.189 4.166 4.107 4.085 4.015 3.975 3.973 3.933 3.802\n",
      " 3.775 3.663 3.597 3.488 3.462 3.41  3.38  3.334 3.231 3.203 3.083 2.853]\n"
     ]
    }
   ],
   "source": [
    "X = data.values\n",
    "y = df.iloc[:, 2].values\n",
    "print(X)\n",
    "print(y)"
   ]
  },
  {
   "cell_type": "code",
   "execution_count": 263,
   "id": "scheduled-penetration",
   "metadata": {},
   "outputs": [],
   "source": [
    "X_train, X_test, y_train, y_test = train_test_split(X, y, test_size=0.5, random_state=0)"
   ]
  },
  {
   "cell_type": "code",
   "execution_count": 264,
   "id": "periodic-belize",
   "metadata": {},
   "outputs": [
    {
     "data": {
      "text/plain": [
       "LinearRegression()"
      ]
     },
     "execution_count": 264,
     "metadata": {},
     "output_type": "execute_result"
    }
   ],
   "source": [
    "classifier = LinearRegression()\n",
    "classifier.fit(X_train, y_train)"
   ]
  },
  {
   "cell_type": "code",
   "execution_count": 265,
   "id": "activated-mobile",
   "metadata": {},
   "outputs": [
    {
     "name": "stdout",
     "output_type": "stream",
     "text": [
      "1.2140045936898591\n"
     ]
    }
   ],
   "source": [
    "print(classifier.intercept_)"
   ]
  },
  {
   "cell_type": "code",
   "execution_count": 266,
   "id": "extended-military",
   "metadata": {},
   "outputs": [
    {
     "name": "stdout",
     "output_type": "stream",
     "text": [
      "[ 0.31863331  2.0139838   1.34272177  0.90306381 -0.00304185  1.40718835]\n"
     ]
    }
   ],
   "source": [
    "print(classifier.coef_)"
   ]
  },
  {
   "cell_type": "code",
   "execution_count": 267,
   "id": "usual-plane",
   "metadata": {},
   "outputs": [
    {
     "data": {
      "text/plain": [
       "array([5.61869463, 6.53232067, 6.1439471 , 5.21964049, 6.20987603,\n",
       "       7.2046092 , 5.44329468, 5.67975348, 4.61186353, 6.45244429,\n",
       "       5.32048101, 6.03936216, 5.14840953, 4.35711193, 5.99947424,\n",
       "       5.12563446, 7.33213546, 4.39046186, 5.79577463, 3.65970101,\n",
       "       4.60638734, 7.03500895, 4.35351917, 6.10859534, 3.86362907,\n",
       "       4.40066262, 5.74667728, 6.07654716, 5.61735569, 5.59110515,\n",
       "       6.72421454, 6.31166722, 5.44124119, 4.20899986, 5.86905253,\n",
       "       5.97563489, 3.18242534, 4.18620939, 5.61769924, 6.04343748,\n",
       "       5.13284398, 3.38781371, 5.98966311, 6.36777871, 5.75578106,\n",
       "       6.24779325, 5.66369302, 5.39524095, 7.27814567, 4.08216396,\n",
       "       6.55085617, 4.35235936, 7.06995744, 2.88617753, 5.66971453,\n",
       "       4.5065588 , 4.40448355, 6.1410234 , 4.6331935 , 5.46190881,\n",
       "       3.74112959, 4.0616649 , 3.39233193, 5.09974658, 1.61500096,\n",
       "       4.59968219, 6.01459417, 5.89623154, 5.68102797, 3.77817428,\n",
       "       5.57062239, 5.77506403, 5.88419531, 5.90241742, 6.98329503,\n",
       "       4.84379546, 4.77248813, 6.23431817])"
      ]
     },
     "execution_count": 267,
     "metadata": {},
     "output_type": "execute_result"
    }
   ],
   "source": [
    "predictions = classifier.predict(X_test)\n",
    "predictions"
   ]
  },
  {
   "cell_type": "code",
   "execution_count": 268,
   "id": "norman-macedonia",
   "metadata": {},
   "outputs": [
    {
     "data": {
      "text/html": [
       "<div>\n",
       "<style scoped>\n",
       "    .dataframe tbody tr th:only-of-type {\n",
       "        vertical-align: middle;\n",
       "    }\n",
       "\n",
       "    .dataframe tbody tr th {\n",
       "        vertical-align: top;\n",
       "    }\n",
       "\n",
       "    .dataframe thead th {\n",
       "        text-align: right;\n",
       "    }\n",
       "</style>\n",
       "<table border=\"1\" class=\"dataframe\">\n",
       "  <thead>\n",
       "    <tr style=\"text-align: right;\">\n",
       "      <th></th>\n",
       "      <th>Actual</th>\n",
       "      <th>Prediction</th>\n",
       "    </tr>\n",
       "  </thead>\n",
       "  <tbody>\n",
       "    <tr>\n",
       "      <th>0</th>\n",
       "      <td>6.436</td>\n",
       "      <td>5.618695</td>\n",
       "    </tr>\n",
       "    <tr>\n",
       "      <th>1</th>\n",
       "      <td>5.893</td>\n",
       "      <td>6.532321</td>\n",
       "    </tr>\n",
       "    <tr>\n",
       "      <th>2</th>\n",
       "      <td>6.198</td>\n",
       "      <td>6.143947</td>\n",
       "    </tr>\n",
       "    <tr>\n",
       "      <th>3</th>\n",
       "      <td>4.639</td>\n",
       "      <td>5.219640</td>\n",
       "    </tr>\n",
       "    <tr>\n",
       "      <th>4</th>\n",
       "      <td>6.446</td>\n",
       "      <td>6.209876</td>\n",
       "    </tr>\n",
       "    <tr>\n",
       "      <th>...</th>\n",
       "      <td>...</td>\n",
       "      <td>...</td>\n",
       "    </tr>\n",
       "    <tr>\n",
       "      <th>73</th>\n",
       "      <td>6.046</td>\n",
       "      <td>5.902417</td>\n",
       "    </tr>\n",
       "    <tr>\n",
       "      <th>74</th>\n",
       "      <td>7.090</td>\n",
       "      <td>6.983295</td>\n",
       "    </tr>\n",
       "    <tr>\n",
       "      <th>75</th>\n",
       "      <td>4.461</td>\n",
       "      <td>4.843795</td>\n",
       "    </tr>\n",
       "    <tr>\n",
       "      <th>76</th>\n",
       "      <td>4.681</td>\n",
       "      <td>4.772488</td>\n",
       "    </tr>\n",
       "    <tr>\n",
       "      <th>77</th>\n",
       "      <td>6.825</td>\n",
       "      <td>6.234318</td>\n",
       "    </tr>\n",
       "  </tbody>\n",
       "</table>\n",
       "<p>78 rows × 2 columns</p>\n",
       "</div>"
      ],
      "text/plain": [
       "    Actual  Prediction\n",
       "0    6.436    5.618695\n",
       "1    5.893    6.532321\n",
       "2    6.198    6.143947\n",
       "3    4.639    5.219640\n",
       "4    6.446    6.209876\n",
       "..     ...         ...\n",
       "73   6.046    5.902417\n",
       "74   7.090    6.983295\n",
       "75   4.461    4.843795\n",
       "76   4.681    4.772488\n",
       "77   6.825    6.234318\n",
       "\n",
       "[78 rows x 2 columns]"
      ]
     },
     "execution_count": 268,
     "metadata": {},
     "output_type": "execute_result"
    }
   ],
   "source": [
    "Hdf = pd.DataFrame({\"Actual\": y_test, \"Prediction\":predictions})\n",
    "Hdf"
   ]
  },
  {
   "cell_type": "code",
   "execution_count": 283,
   "id": "boring-taylor",
   "metadata": {},
   "outputs": [
    {
     "data": {
      "text/html": [
       "<div>\n",
       "<style scoped>\n",
       "    .dataframe tbody tr th:only-of-type {\n",
       "        vertical-align: middle;\n",
       "    }\n",
       "\n",
       "    .dataframe tbody tr th {\n",
       "        vertical-align: top;\n",
       "    }\n",
       "\n",
       "    .dataframe thead th {\n",
       "        text-align: right;\n",
       "    }\n",
       "</style>\n",
       "<table border=\"1\" class=\"dataframe\">\n",
       "  <thead>\n",
       "    <tr style=\"text-align: right;\">\n",
       "      <th></th>\n",
       "      <th>GDP per capita</th>\n",
       "      <th>Social support</th>\n",
       "      <th>Healthy life expectancy</th>\n",
       "      <th>Freedom to make life choices</th>\n",
       "      <th>Generosity</th>\n",
       "      <th>Perceptions of corruption</th>\n",
       "    </tr>\n",
       "  </thead>\n",
       "  <tbody>\n",
       "    <tr>\n",
       "      <th>0</th>\n",
       "      <td>1.340</td>\n",
       "      <td>1.587</td>\n",
       "      <td>0.986</td>\n",
       "      <td>0.596</td>\n",
       "      <td>0.153</td>\n",
       "      <td>0.393</td>\n",
       "    </tr>\n",
       "    <tr>\n",
       "      <th>1</th>\n",
       "      <td>1.383</td>\n",
       "      <td>1.573</td>\n",
       "      <td>0.996</td>\n",
       "      <td>0.592</td>\n",
       "      <td>0.252</td>\n",
       "      <td>0.410</td>\n",
       "    </tr>\n",
       "    <tr>\n",
       "      <th>2</th>\n",
       "      <td>1.488</td>\n",
       "      <td>1.582</td>\n",
       "      <td>1.028</td>\n",
       "      <td>0.603</td>\n",
       "      <td>0.271</td>\n",
       "      <td>0.341</td>\n",
       "    </tr>\n",
       "    <tr>\n",
       "      <th>3</th>\n",
       "      <td>1.380</td>\n",
       "      <td>1.624</td>\n",
       "      <td>1.026</td>\n",
       "      <td>0.591</td>\n",
       "      <td>0.354</td>\n",
       "      <td>0.118</td>\n",
       "    </tr>\n",
       "    <tr>\n",
       "      <th>4</th>\n",
       "      <td>1.396</td>\n",
       "      <td>1.522</td>\n",
       "      <td>0.999</td>\n",
       "      <td>0.557</td>\n",
       "      <td>0.322</td>\n",
       "      <td>0.298</td>\n",
       "    </tr>\n",
       "  </tbody>\n",
       "</table>\n",
       "</div>"
      ],
      "text/plain": [
       "   GDP per capita  Social support  Healthy life expectancy  \\\n",
       "0           1.340           1.587                    0.986   \n",
       "1           1.383           1.573                    0.996   \n",
       "2           1.488           1.582                    1.028   \n",
       "3           1.380           1.624                    1.026   \n",
       "4           1.396           1.522                    0.999   \n",
       "\n",
       "   Freedom to make life choices  Generosity  Perceptions of corruption  \n",
       "0                         0.596       0.153                      0.393  \n",
       "1                         0.592       0.252                      0.410  \n",
       "2                         0.603       0.271                      0.341  \n",
       "3                         0.591       0.354                      0.118  \n",
       "4                         0.557       0.322                      0.298  "
      ]
     },
     "execution_count": 283,
     "metadata": {},
     "output_type": "execute_result"
    }
   ],
   "source": [
    "feature_names = data.columns\n",
    "data.head()"
   ]
  },
  {
   "cell_type": "code",
   "execution_count": 306,
   "id": "future-brain",
   "metadata": {},
   "outputs": [],
   "source": [
    "target = df[\"Score\"].astype(int)"
   ]
  },
  {
   "cell_type": "code",
   "execution_count": 327,
   "id": "strong-revelation",
   "metadata": {},
   "outputs": [],
   "source": [
    "\n",
    "X_train, X_test, y_train, y_test = train_test_split(data, target, random_state=30)"
   ]
  },
  {
   "cell_type": "code",
   "execution_count": 328,
   "id": "large-kitchen",
   "metadata": {},
   "outputs": [
    {
     "data": {
      "text/plain": [
       "0.5641025641025641"
      ]
     },
     "execution_count": 328,
     "metadata": {},
     "output_type": "execute_result"
    }
   ],
   "source": [
    "clf = tree.DecisionTreeClassifier()\n",
    "clf = clf.fit(X_train, y_train)\n",
    "clf.score(X_test, y_test)"
   ]
  },
  {
   "cell_type": "code",
   "execution_count": 329,
   "id": "younger-found",
   "metadata": {},
   "outputs": [
    {
     "data": {
      "text/plain": [
       "0.6153846153846154"
      ]
     },
     "execution_count": 329,
     "metadata": {},
     "output_type": "execute_result"
    }
   ],
   "source": [
    "rf = RandomForestClassifier(n_estimators=10)\n",
    "rf = rf.fit(X_train, y_train)\n",
    "rf.score(X_test, y_test)"
   ]
  },
  {
   "cell_type": "code",
   "execution_count": 332,
   "id": "experienced-calibration",
   "metadata": {},
   "outputs": [
    {
     "data": {
      "text/plain": [
       "[(0.2392719457398133, 'Social support'),\n",
       " (0.18631830891220086, 'GDP per capita'),\n",
       " (0.18209342745357068, 'Healthy life expectancy'),\n",
       " (0.16636597865552835, 'Perceptions of corruption'),\n",
       " (0.13749866408360495, 'Freedom to make life choices'),\n",
       " (0.08845167515528188, 'Generosity')]"
      ]
     },
     "execution_count": 332,
     "metadata": {},
     "output_type": "execute_result"
    }
   ],
   "source": [
    "happyRF = sorted(zip(rf.feature_importances_, feature_names), reverse=True)\n",
    "happyRF"
   ]
  },
  {
   "cell_type": "code",
   "execution_count": 338,
   "id": "christian-thanks",
   "metadata": {},
   "outputs": [
    {
     "data": {
      "text/html": [
       "<div>\n",
       "<style scoped>\n",
       "    .dataframe tbody tr th:only-of-type {\n",
       "        vertical-align: middle;\n",
       "    }\n",
       "\n",
       "    .dataframe tbody tr th {\n",
       "        vertical-align: top;\n",
       "    }\n",
       "\n",
       "    .dataframe thead th {\n",
       "        text-align: right;\n",
       "    }\n",
       "</style>\n",
       "<table border=\"1\" class=\"dataframe\">\n",
       "  <thead>\n",
       "    <tr style=\"text-align: right;\">\n",
       "      <th></th>\n",
       "      <th>Score</th>\n",
       "      <th>GDP per capita</th>\n",
       "      <th>Social support</th>\n",
       "      <th>Healthy life expectancy</th>\n",
       "      <th>Freedom to make life choices</th>\n",
       "      <th>Generosity</th>\n",
       "      <th>Perceptions of corruption</th>\n",
       "    </tr>\n",
       "  </thead>\n",
       "  <tbody>\n",
       "    <tr>\n",
       "      <th>Score</th>\n",
       "      <td>1.000000</td>\n",
       "      <td>0.793883</td>\n",
       "      <td>0.777058</td>\n",
       "      <td>0.779883</td>\n",
       "      <td>0.566742</td>\n",
       "      <td>0.075824</td>\n",
       "      <td>0.385613</td>\n",
       "    </tr>\n",
       "    <tr>\n",
       "      <th>GDP per capita</th>\n",
       "      <td>0.793883</td>\n",
       "      <td>1.000000</td>\n",
       "      <td>0.754906</td>\n",
       "      <td>0.835462</td>\n",
       "      <td>0.379079</td>\n",
       "      <td>-0.079662</td>\n",
       "      <td>0.298920</td>\n",
       "    </tr>\n",
       "    <tr>\n",
       "      <th>Social support</th>\n",
       "      <td>0.777058</td>\n",
       "      <td>0.754906</td>\n",
       "      <td>1.000000</td>\n",
       "      <td>0.719009</td>\n",
       "      <td>0.447333</td>\n",
       "      <td>-0.048126</td>\n",
       "      <td>0.181899</td>\n",
       "    </tr>\n",
       "    <tr>\n",
       "      <th>Healthy life expectancy</th>\n",
       "      <td>0.779883</td>\n",
       "      <td>0.835462</td>\n",
       "      <td>0.719009</td>\n",
       "      <td>1.000000</td>\n",
       "      <td>0.390395</td>\n",
       "      <td>-0.029511</td>\n",
       "      <td>0.295283</td>\n",
       "    </tr>\n",
       "    <tr>\n",
       "      <th>Freedom to make life choices</th>\n",
       "      <td>0.566742</td>\n",
       "      <td>0.379079</td>\n",
       "      <td>0.447333</td>\n",
       "      <td>0.390395</td>\n",
       "      <td>1.000000</td>\n",
       "      <td>0.269742</td>\n",
       "      <td>0.438843</td>\n",
       "    </tr>\n",
       "    <tr>\n",
       "      <th>Generosity</th>\n",
       "      <td>0.075824</td>\n",
       "      <td>-0.079662</td>\n",
       "      <td>-0.048126</td>\n",
       "      <td>-0.029511</td>\n",
       "      <td>0.269742</td>\n",
       "      <td>1.000000</td>\n",
       "      <td>0.326538</td>\n",
       "    </tr>\n",
       "    <tr>\n",
       "      <th>Perceptions of corruption</th>\n",
       "      <td>0.385613</td>\n",
       "      <td>0.298920</td>\n",
       "      <td>0.181899</td>\n",
       "      <td>0.295283</td>\n",
       "      <td>0.438843</td>\n",
       "      <td>0.326538</td>\n",
       "      <td>1.000000</td>\n",
       "    </tr>\n",
       "  </tbody>\n",
       "</table>\n",
       "</div>"
      ],
      "text/plain": [
       "                                 Score  GDP per capita  Social support  \\\n",
       "Score                         1.000000        0.793883        0.777058   \n",
       "GDP per capita                0.793883        1.000000        0.754906   \n",
       "Social support                0.777058        0.754906        1.000000   \n",
       "Healthy life expectancy       0.779883        0.835462        0.719009   \n",
       "Freedom to make life choices  0.566742        0.379079        0.447333   \n",
       "Generosity                    0.075824       -0.079662       -0.048126   \n",
       "Perceptions of corruption     0.385613        0.298920        0.181899   \n",
       "\n",
       "                              Healthy life expectancy  \\\n",
       "Score                                        0.779883   \n",
       "GDP per capita                               0.835462   \n",
       "Social support                               0.719009   \n",
       "Healthy life expectancy                      1.000000   \n",
       "Freedom to make life choices                 0.390395   \n",
       "Generosity                                  -0.029511   \n",
       "Perceptions of corruption                    0.295283   \n",
       "\n",
       "                              Freedom to make life choices  Generosity  \\\n",
       "Score                                             0.566742    0.075824   \n",
       "GDP per capita                                    0.379079   -0.079662   \n",
       "Social support                                    0.447333   -0.048126   \n",
       "Healthy life expectancy                           0.390395   -0.029511   \n",
       "Freedom to make life choices                      1.000000    0.269742   \n",
       "Generosity                                        0.269742    1.000000   \n",
       "Perceptions of corruption                         0.438843    0.326538   \n",
       "\n",
       "                              Perceptions of corruption  \n",
       "Score                                          0.385613  \n",
       "GDP per capita                                 0.298920  \n",
       "Social support                                 0.181899  \n",
       "Healthy life expectancy                        0.295283  \n",
       "Freedom to make life choices                   0.438843  \n",
       "Generosity                                     0.326538  \n",
       "Perceptions of corruption                      1.000000  "
      ]
     },
     "execution_count": 338,
     "metadata": {},
     "output_type": "execute_result"
    }
   ],
   "source": [
    "d1.corr()"
   ]
  },
  {
   "cell_type": "code",
   "execution_count": 349,
   "id": "muslim-canyon",
   "metadata": {},
   "outputs": [
    {
     "data": {
      "image/png": "[encoded data removed]",
      "text/plain": [
       "<Figure size 432x288 with 2 Axes>"
      ]
     },
     "metadata": {
      "needs_background": "light"
     },
     "output_type": "display_data"
    }
   ],
   "source": [
    "heat_map = sns.heatmap(d1.corr(), cmap=\"PuBuGn\", annot=True)"
   ]
  },
  {
   "cell_type": "code",
   "execution_count": null,
   "id": "frozen-artwork",
   "metadata": {},
   "outputs": [],
   "source": []
  }
 ],
 "metadata": {
  "kernelspec": {
   "display_name": "Python 3",
   "language": "python",
   "name": "python3"
  },
  "language_info": {
   "codemirror_mode": {
    "name": "ipython",
    "version": 3
   },
   "file_extension": ".py",
   "mimetype": "text/x-python",
   "name": "python",
   "nbconvert_exporter": "python",
   "pygments_lexer": "ipython3",
   "version": "3.6.12"
  }
 },
 "nbformat": 4,
 "nbformat_minor": 5
}
