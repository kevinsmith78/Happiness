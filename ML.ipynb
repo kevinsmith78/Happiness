{
 "cells": [
  {
   "cell_type": "code",
<<<<<<< HEAD
   "execution_count": 2,
=======
   "execution_count": 31,
>>>>>>> eric
   "id": "unauthorized-swing",
   "metadata": {},
   "outputs": [],
   "source": [
    "%matplotlib inline\n",
    "import matplotlib.pyplot as plt\n",
    "from sklearn import tree\n",
    "from sklearn import metrics\n",
    "import seaborn as sns\n",
    "import pandas as pd\n",
    "import numpy as np\n",
    "import os\n",
    "from sklearn import preprocessing\n",
    "from sklearn.model_selection import train_test_split\n",
    "from sklearn.linear_model import LinearRegression\n",
    "from sklearn.ensemble import RandomForestClassifier"
   ]
  },
  {
   "cell_type": "code",
<<<<<<< HEAD
   "execution_count": 3,
=======
   "execution_count": 32,
>>>>>>> eric
   "id": "african-calcium",
   "metadata": {
    "scrolled": false
   },
   "outputs": [
    {
     "data": {
      "text/html": [
       "<div>\n",
       "<style scoped>\n",
       "    .dataframe tbody tr th:only-of-type {\n",
       "        vertical-align: middle;\n",
       "    }\n",
       "\n",
       "    .dataframe tbody tr th {\n",
       "        vertical-align: top;\n",
       "    }\n",
       "\n",
       "    .dataframe thead th {\n",
       "        text-align: right;\n",
       "    }\n",
       "</style>\n",
       "<table border=\"1\" class=\"dataframe\">\n",
       "  <thead>\n",
       "    <tr style=\"text-align: right;\">\n",
       "      <th></th>\n",
       "      <th>Overall rank</th>\n",
       "      <th>Country or region</th>\n",
       "      <th>Score</th>\n",
       "      <th>GDP per capita</th>\n",
       "      <th>Social support</th>\n",
       "      <th>Healthy life expectancy</th>\n",
       "      <th>Freedom to make life choices</th>\n",
       "      <th>Generosity</th>\n",
       "      <th>Perceptions of corruption</th>\n",
       "    </tr>\n",
       "  </thead>\n",
       "  <tbody>\n",
       "    <tr>\n",
       "      <th>0</th>\n",
       "      <td>1</td>\n",
       "      <td>Finland</td>\n",
       "      <td>7.769</td>\n",
       "      <td>1.340</td>\n",
       "      <td>1.587</td>\n",
       "      <td>0.986</td>\n",
       "      <td>0.596</td>\n",
       "      <td>0.153</td>\n",
       "      <td>0.393</td>\n",
       "    </tr>\n",
       "    <tr>\n",
       "      <th>1</th>\n",
       "      <td>2</td>\n",
       "      <td>Denmark</td>\n",
       "      <td>7.600</td>\n",
       "      <td>1.383</td>\n",
       "      <td>1.573</td>\n",
       "      <td>0.996</td>\n",
       "      <td>0.592</td>\n",
       "      <td>0.252</td>\n",
       "      <td>0.410</td>\n",
       "    </tr>\n",
       "    <tr>\n",
       "      <th>2</th>\n",
       "      <td>3</td>\n",
       "      <td>Norway</td>\n",
       "      <td>7.554</td>\n",
       "      <td>1.488</td>\n",
       "      <td>1.582</td>\n",
       "      <td>1.028</td>\n",
       "      <td>0.603</td>\n",
       "      <td>0.271</td>\n",
       "      <td>0.341</td>\n",
       "    </tr>\n",
       "    <tr>\n",
       "      <th>3</th>\n",
       "      <td>4</td>\n",
       "      <td>Iceland</td>\n",
       "      <td>7.494</td>\n",
       "      <td>1.380</td>\n",
       "      <td>1.624</td>\n",
       "      <td>1.026</td>\n",
       "      <td>0.591</td>\n",
       "      <td>0.354</td>\n",
       "      <td>0.118</td>\n",
       "    </tr>\n",
       "    <tr>\n",
       "      <th>4</th>\n",
       "      <td>5</td>\n",
       "      <td>Netherlands</td>\n",
       "      <td>7.488</td>\n",
       "      <td>1.396</td>\n",
       "      <td>1.522</td>\n",
       "      <td>0.999</td>\n",
       "      <td>0.557</td>\n",
       "      <td>0.322</td>\n",
       "      <td>0.298</td>\n",
       "    </tr>\n",
       "    <tr>\n",
       "      <th>...</th>\n",
       "      <td>...</td>\n",
       "      <td>...</td>\n",
       "      <td>...</td>\n",
       "      <td>...</td>\n",
       "      <td>...</td>\n",
       "      <td>...</td>\n",
       "      <td>...</td>\n",
       "      <td>...</td>\n",
       "      <td>...</td>\n",
       "    </tr>\n",
       "    <tr>\n",
       "      <th>151</th>\n",
       "      <td>152</td>\n",
       "      <td>Rwanda</td>\n",
       "      <td>3.334</td>\n",
       "      <td>0.359</td>\n",
       "      <td>0.711</td>\n",
       "      <td>0.614</td>\n",
       "      <td>0.555</td>\n",
       "      <td>0.217</td>\n",
       "      <td>0.411</td>\n",
       "    </tr>\n",
       "    <tr>\n",
       "      <th>152</th>\n",
       "      <td>153</td>\n",
       "      <td>Tanzania</td>\n",
       "      <td>3.231</td>\n",
       "      <td>0.476</td>\n",
       "      <td>0.885</td>\n",
       "      <td>0.499</td>\n",
       "      <td>0.417</td>\n",
       "      <td>0.276</td>\n",
       "      <td>0.147</td>\n",
       "    </tr>\n",
       "    <tr>\n",
       "      <th>153</th>\n",
       "      <td>154</td>\n",
       "      <td>Afghanistan</td>\n",
       "      <td>3.203</td>\n",
       "      <td>0.350</td>\n",
       "      <td>0.517</td>\n",
       "      <td>0.361</td>\n",
       "      <td>0.000</td>\n",
       "      <td>0.158</td>\n",
       "      <td>0.025</td>\n",
       "    </tr>\n",
       "    <tr>\n",
       "      <th>154</th>\n",
       "      <td>155</td>\n",
       "      <td>Central African Republic</td>\n",
       "      <td>3.083</td>\n",
       "      <td>0.026</td>\n",
       "      <td>0.000</td>\n",
       "      <td>0.105</td>\n",
       "      <td>0.225</td>\n",
       "      <td>0.235</td>\n",
       "      <td>0.035</td>\n",
       "    </tr>\n",
       "    <tr>\n",
       "      <th>155</th>\n",
       "      <td>156</td>\n",
       "      <td>South Sudan</td>\n",
       "      <td>2.853</td>\n",
       "      <td>0.306</td>\n",
       "      <td>0.575</td>\n",
       "      <td>0.295</td>\n",
       "      <td>0.010</td>\n",
       "      <td>0.202</td>\n",
       "      <td>0.091</td>\n",
       "    </tr>\n",
       "  </tbody>\n",
       "</table>\n",
       "<p>156 rows × 9 columns</p>\n",
       "</div>"
      ],
      "text/plain": [
       "     Overall rank         Country or region  Score  GDP per capita  \\\n",
       "0               1                   Finland  7.769           1.340   \n",
       "1               2                   Denmark  7.600           1.383   \n",
       "2               3                    Norway  7.554           1.488   \n",
       "3               4                   Iceland  7.494           1.380   \n",
       "4               5               Netherlands  7.488           1.396   \n",
       "..            ...                       ...    ...             ...   \n",
       "151           152                    Rwanda  3.334           0.359   \n",
       "152           153                  Tanzania  3.231           0.476   \n",
       "153           154               Afghanistan  3.203           0.350   \n",
       "154           155  Central African Republic  3.083           0.026   \n",
       "155           156               South Sudan  2.853           0.306   \n",
       "\n",
       "     Social support  Healthy life expectancy  Freedom to make life choices  \\\n",
       "0             1.587                    0.986                         0.596   \n",
       "1             1.573                    0.996                         0.592   \n",
       "2             1.582                    1.028                         0.603   \n",
       "3             1.624                    1.026                         0.591   \n",
       "4             1.522                    0.999                         0.557   \n",
       "..              ...                      ...                           ...   \n",
       "151           0.711                    0.614                         0.555   \n",
       "152           0.885                    0.499                         0.417   \n",
       "153           0.517                    0.361                         0.000   \n",
       "154           0.000                    0.105                         0.225   \n",
       "155           0.575                    0.295                         0.010   \n",
       "\n",
       "     Generosity  Perceptions of corruption  \n",
       "0         0.153                      0.393  \n",
       "1         0.252                      0.410  \n",
       "2         0.271                      0.341  \n",
       "3         0.354                      0.118  \n",
       "4         0.322                      0.298  \n",
       "..          ...                        ...  \n",
       "151       0.217                      0.411  \n",
       "152       0.276                      0.147  \n",
       "153       0.158                      0.025  \n",
       "154       0.235                      0.035  \n",
       "155       0.202                      0.091  \n",
       "\n",
       "[156 rows x 9 columns]"
      ]
     },
<<<<<<< HEAD
     "execution_count": 3,
=======
     "execution_count": 32,
>>>>>>> eric
     "metadata": {},
     "output_type": "execute_result"
    }
   ],
   "source": [
    "df = pd.read_csv(os.path.join(\"Data\", \"2019.csv\"))\n",
    "df"
   ]
  },
  {
   "cell_type": "code",
<<<<<<< HEAD
   "execution_count": 4,
=======
   "execution_count": 33,
>>>>>>> eric
   "id": "diverse-campbell",
   "metadata": {
    "scrolled": true
   },
   "outputs": [
    {
     "data": {
      "text/html": [
       "<div>\n",
       "<style scoped>\n",
       "    .dataframe tbody tr th:only-of-type {\n",
       "        vertical-align: middle;\n",
       "    }\n",
       "\n",
       "    .dataframe tbody tr th {\n",
       "        vertical-align: top;\n",
       "    }\n",
       "\n",
       "    .dataframe thead th {\n",
       "        text-align: right;\n",
       "    }\n",
       "</style>\n",
       "<table border=\"1\" class=\"dataframe\">\n",
       "  <thead>\n",
       "    <tr style=\"text-align: right;\">\n",
       "      <th></th>\n",
       "      <th>Overall rank</th>\n",
       "      <th>Score</th>\n",
       "      <th>GDP per capita</th>\n",
       "      <th>Social support</th>\n",
       "      <th>Healthy life expectancy</th>\n",
       "      <th>Freedom to make life choices</th>\n",
       "      <th>Generosity</th>\n",
       "      <th>Perceptions of corruption</th>\n",
       "    </tr>\n",
       "  </thead>\n",
       "  <tbody>\n",
       "    <tr>\n",
       "      <th>count</th>\n",
       "      <td>156.000000</td>\n",
       "      <td>156.000000</td>\n",
       "      <td>156.000000</td>\n",
       "      <td>156.000000</td>\n",
       "      <td>156.000000</td>\n",
       "      <td>156.000000</td>\n",
       "      <td>156.000000</td>\n",
       "      <td>156.000000</td>\n",
       "    </tr>\n",
       "    <tr>\n",
       "      <th>mean</th>\n",
       "      <td>78.500000</td>\n",
       "      <td>5.407096</td>\n",
       "      <td>0.905147</td>\n",
       "      <td>1.208814</td>\n",
       "      <td>0.725244</td>\n",
       "      <td>0.392571</td>\n",
       "      <td>0.184846</td>\n",
       "      <td>0.110603</td>\n",
       "    </tr>\n",
       "    <tr>\n",
       "      <th>std</th>\n",
       "      <td>45.177428</td>\n",
       "      <td>1.113120</td>\n",
       "      <td>0.398389</td>\n",
       "      <td>0.299191</td>\n",
       "      <td>0.242124</td>\n",
       "      <td>0.143289</td>\n",
       "      <td>0.095254</td>\n",
       "      <td>0.094538</td>\n",
       "    </tr>\n",
       "    <tr>\n",
       "      <th>min</th>\n",
       "      <td>1.000000</td>\n",
       "      <td>2.853000</td>\n",
       "      <td>0.000000</td>\n",
       "      <td>0.000000</td>\n",
       "      <td>0.000000</td>\n",
       "      <td>0.000000</td>\n",
       "      <td>0.000000</td>\n",
       "      <td>0.000000</td>\n",
       "    </tr>\n",
       "    <tr>\n",
       "      <th>25%</th>\n",
       "      <td>39.750000</td>\n",
       "      <td>4.544500</td>\n",
       "      <td>0.602750</td>\n",
       "      <td>1.055750</td>\n",
       "      <td>0.547750</td>\n",
       "      <td>0.308000</td>\n",
       "      <td>0.108750</td>\n",
       "      <td>0.047000</td>\n",
       "    </tr>\n",
       "    <tr>\n",
       "      <th>50%</th>\n",
       "      <td>78.500000</td>\n",
       "      <td>5.379500</td>\n",
       "      <td>0.960000</td>\n",
       "      <td>1.271500</td>\n",
       "      <td>0.789000</td>\n",
       "      <td>0.417000</td>\n",
       "      <td>0.177500</td>\n",
       "      <td>0.085500</td>\n",
       "    </tr>\n",
       "    <tr>\n",
       "      <th>75%</th>\n",
       "      <td>117.250000</td>\n",
       "      <td>6.184500</td>\n",
       "      <td>1.232500</td>\n",
       "      <td>1.452500</td>\n",
       "      <td>0.881750</td>\n",
       "      <td>0.507250</td>\n",
       "      <td>0.248250</td>\n",
       "      <td>0.141250</td>\n",
       "    </tr>\n",
       "    <tr>\n",
       "      <th>max</th>\n",
       "      <td>156.000000</td>\n",
       "      <td>7.769000</td>\n",
       "      <td>1.684000</td>\n",
       "      <td>1.624000</td>\n",
       "      <td>1.141000</td>\n",
       "      <td>0.631000</td>\n",
       "      <td>0.566000</td>\n",
       "      <td>0.453000</td>\n",
       "    </tr>\n",
       "  </tbody>\n",
       "</table>\n",
       "</div>"
      ],
      "text/plain": [
       "       Overall rank       Score  GDP per capita  Social support  \\\n",
       "count    156.000000  156.000000      156.000000      156.000000   \n",
       "mean      78.500000    5.407096        0.905147        1.208814   \n",
       "std       45.177428    1.113120        0.398389        0.299191   \n",
       "min        1.000000    2.853000        0.000000        0.000000   \n",
       "25%       39.750000    4.544500        0.602750        1.055750   \n",
       "50%       78.500000    5.379500        0.960000        1.271500   \n",
       "75%      117.250000    6.184500        1.232500        1.452500   \n",
       "max      156.000000    7.769000        1.684000        1.624000   \n",
       "\n",
       "       Healthy life expectancy  Freedom to make life choices  Generosity  \\\n",
       "count               156.000000                    156.000000  156.000000   \n",
       "mean                  0.725244                      0.392571    0.184846   \n",
       "std                   0.242124                      0.143289    0.095254   \n",
       "min                   0.000000                      0.000000    0.000000   \n",
       "25%                   0.547750                      0.308000    0.108750   \n",
       "50%                   0.789000                      0.417000    0.177500   \n",
       "75%                   0.881750                      0.507250    0.248250   \n",
       "max                   1.141000                      0.631000    0.566000   \n",
       "\n",
       "       Perceptions of corruption  \n",
       "count                 156.000000  \n",
       "mean                    0.110603  \n",
       "std                     0.094538  \n",
       "min                     0.000000  \n",
       "25%                     0.047000  \n",
       "50%                     0.085500  \n",
       "75%                     0.141250  \n",
       "max                     0.453000  "
      ]
     },
<<<<<<< HEAD
     "execution_count": 4,
=======
     "execution_count": 33,
>>>>>>> eric
     "metadata": {},
     "output_type": "execute_result"
    }
   ],
   "source": [
    "df.describe()"
   ]
  },
  {
   "cell_type": "code",
<<<<<<< HEAD
   "execution_count": 5,
=======
   "execution_count": 34,
>>>>>>> eric
   "id": "incorrect-russian",
   "metadata": {},
   "outputs": [],
   "source": [
    "data = df.drop([\"Country or region\", \"Overall rank\", \"Score\"], axis=1)"
   ]
  },
  {
   "cell_type": "code",
<<<<<<< HEAD
   "execution_count": 6,
=======
   "execution_count": 35,
>>>>>>> eric
   "id": "invalid-portuguese",
   "metadata": {},
   "outputs": [],
   "source": [
    "d1 = df.drop([\"Country or region\", \"Overall rank\"], axis=1)"
   ]
  },
  {
   "cell_type": "code",
<<<<<<< HEAD
   "execution_count": 7,
=======
   "execution_count": 36,
>>>>>>> eric
   "id": "favorite-montgomery",
   "metadata": {
    "scrolled": false
   },
   "outputs": [
    {
     "data": {
      "image/png": "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\n",
      "text/plain": [
       "<Figure size 432x288 with 1 Axes>"
      ]
     },
     "metadata": {
      "needs_background": "light"
     },
     "output_type": "display_data"
    }
   ],
   "source": [
    "df.plot(x=\"Score\", y=\"GDP per capita\", style = \"o\", )\n",
    "m, b = np.polyfit(df[\"Score\"], df[\"GDP per capita\"], 1)\n",
    "plt.plot(df[\"Score\"], m*df[\"Score\"] + b)\n",
    "plt.title(\"Correlation between Score & GDP per capita\", weight=\"bold\")\n",
    "plt.xlabel(\"Score\")\n",
    "plt.ylabel(\"GDP per Capita\")\n",
    "plt.savefig(\"GDP.png\")\n",
    "\n",
    "plt.show()"
   ]
  },
  {
   "cell_type": "code",
<<<<<<< HEAD
   "execution_count": 8,
=======
   "execution_count": 37,
>>>>>>> eric
   "id": "juvenile-springfield",
   "metadata": {
    "scrolled": true
   },
   "outputs": [
    {
     "data": {
      "image/png": "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\n",
      "text/plain": [
       "<Figure size 432x288 with 1 Axes>"
      ]
     },
     "metadata": {
      "needs_background": "light"
     },
     "output_type": "display_data"
    }
   ],
   "source": [
    "df.plot(x=\"Score\", y=\"Social support\", style = \"o\")\n",
    "m, b = np.polyfit(df[\"Score\"], df[\"Social support\"], 1)\n",
    "plt.plot(df[\"Score\"], m*df[\"Score\"] + b)\n",
    "plt.title(\"Correlation between Score & Social Support\", weight=\"bold\")\n",
    "plt.xlabel(\"Score\")\n",
    "plt.ylabel(\"Social support\")\n",
    "plt.savefig(\"SocialSupport.png\")\n",
    "\n",
    "plt.show()"
   ]
  },
  {
   "cell_type": "code",
<<<<<<< HEAD
   "execution_count": 9,
=======
   "execution_count": 38,
>>>>>>> eric
   "id": "single-crest",
   "metadata": {},
   "outputs": [
    {
     "data": {
      "image/png": "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\n",
      "text/plain": [
       "<Figure size 432x288 with 1 Axes>"
      ]
     },
     "metadata": {
      "needs_background": "light"
     },
     "output_type": "display_data"
    }
   ],
   "source": [
    "df.plot(x=\"Score\", y=\"Healthy life expectancy\", style = \"o\")\n",
    "m, b = np.polyfit(df[\"Score\"], df[\"Healthy life expectancy\"], 1)\n",
    "plt.plot(df[\"Score\"], m*df[\"Score\"] + b)\n",
    "plt.title(\"Correlation between Score & Healthy Life Expectancy\", weight=\"bold\")\n",
    "plt.xlabel(\"Score\")\n",
    "plt.ylabel(\"Healthy life expectancy\")\n",
    "plt.savefig(\"HealthyLife.png\")\n",
    "\n",
    "plt.show()"
   ]
  },
  {
   "cell_type": "code",
<<<<<<< HEAD
   "execution_count": 10,
=======
   "execution_count": 39,
>>>>>>> eric
   "id": "false-cartoon",
   "metadata": {},
   "outputs": [
    {
     "data": {
      "image/png": "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\n",
      "text/plain": [
       "<Figure size 432x288 with 1 Axes>"
      ]
     },
     "metadata": {
      "needs_background": "light"
     },
     "output_type": "display_data"
    }
   ],
   "source": [
    "df.plot(x=\"Score\", y=\"Freedom to make life choices\", style = \"o\")\n",
    "m, b = np.polyfit(df[\"Score\"], df[\"Freedom to make life choices\"], 1)\n",
    "plt.plot(df[\"Score\"], m*df[\"Score\"] + b)\n",
    "plt.title(\"Correlation between Score & Freedom to Make Life Choices\", weight=\"bold\")\n",
    "plt.xlabel(\"Score\")\n",
    "plt.ylabel(\"Freedom to make life choices\")\n",
    "plt.savefig(\"Freedom.png\")\n",
    "\n",
    "plt.show()"
   ]
  },
  {
   "cell_type": "code",
<<<<<<< HEAD
   "execution_count": 11,
=======
   "execution_count": 40,
>>>>>>> eric
   "id": "loaded-brief",
   "metadata": {},
   "outputs": [
    {
     "data": {
      "image/png": "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\n",
      "text/plain": [
       "<Figure size 432x288 with 1 Axes>"
      ]
     },
     "metadata": {
      "needs_background": "light"
     },
     "output_type": "display_data"
    }
   ],
   "source": [
    "df.plot(x=\"Score\", y=\"Generosity\", style = \"o\")\n",
    "m, b = np.polyfit(df[\"Score\"], df[\"Generosity\"], 1)\n",
    "plt.plot(df[\"Score\"], m*df[\"Score\"] + b)\n",
    "plt.title(\"Correlation between Score & Generosity\", weight=\"bold\")\n",
    "plt.xlabel(\"Score\")\n",
    "plt.ylabel(\"Generosity\")\n",
    "plt.savefig(\"Generosity.png\")\n",
    "\n",
    "plt.show()"
   ]
  },
  {
   "cell_type": "code",
<<<<<<< HEAD
   "execution_count": 12,
=======
   "execution_count": 41,
>>>>>>> eric
   "id": "beautiful-birthday",
   "metadata": {},
   "outputs": [
    {
     "data": {
      "image/png": "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\n",
      "text/plain": [
       "<Figure size 432x288 with 1 Axes>"
      ]
     },
     "metadata": {
      "needs_background": "light"
     },
     "output_type": "display_data"
    }
   ],
   "source": [
    "df.plot(x=\"Score\", y=\"Perceptions of corruption\", style = \"o\")\n",
    "m, b = np.polyfit(df[\"Score\"], df[\"Perceptions of corruption\"], 1)\n",
    "plt.plot(df[\"Score\"], m*df[\"Score\"] + b)\n",
    "plt.title(\"Correlation between Score & Perceptions of Corruption\", weight=\"bold\")\n",
    "plt.xlabel(\"Score\")\n",
    "plt.ylabel(\"Perceptions of corruption\")\n",
    "plt.savefig(\"Corruption.png\")\n",
    "\n",
    "plt.show()"
   ]
  },
  {
   "cell_type": "code",
<<<<<<< HEAD
   "execution_count": 13,
=======
   "execution_count": 42,
>>>>>>> eric
   "id": "heard-thesis",
   "metadata": {},
   "outputs": [
    {
     "data": {
      "text/plain": [
       "Index(['GDP per capita', 'Social support', 'Healthy life expectancy',\n",
       "       'Freedom to make life choices', 'Generosity',\n",
       "       'Perceptions of corruption'],\n",
       "      dtype='object')"
      ]
     },
<<<<<<< HEAD
     "execution_count": 13,
=======
     "execution_count": 42,
>>>>>>> eric
     "metadata": {},
     "output_type": "execute_result"
    }
   ],
   "source": [
    "data.columns"
   ]
  },
  {
   "cell_type": "code",
<<<<<<< HEAD
   "execution_count": 14,
=======
   "execution_count": 43,
>>>>>>> eric
   "id": "strategic-harvey",
   "metadata": {},
   "outputs": [
    {
     "name": "stdout",
     "output_type": "stream",
     "text": [
      "[[1.34  1.587 0.986 0.596 0.153 0.393]\n",
      " [1.383 1.573 0.996 0.592 0.252 0.41 ]\n",
      " [1.488 1.582 1.028 0.603 0.271 0.341]\n",
      " [1.38  1.624 1.026 0.591 0.354 0.118]\n",
      " [1.396 1.522 0.999 0.557 0.322 0.298]\n",
      " [1.452 1.526 1.052 0.572 0.263 0.343]\n",
      " [1.387 1.487 1.009 0.574 0.267 0.373]\n",
      " [1.303 1.557 1.026 0.585 0.33  0.38 ]\n",
      " [1.365 1.505 1.039 0.584 0.285 0.308]\n",
      " [1.376 1.475 1.016 0.532 0.244 0.226]\n",
      " [1.372 1.548 1.036 0.557 0.332 0.29 ]\n",
      " [1.034 1.441 0.963 0.558 0.144 0.093]\n",
      " [1.276 1.455 1.029 0.371 0.261 0.082]\n",
      " [1.609 1.479 1.012 0.526 0.194 0.316]\n",
      " [1.333 1.538 0.996 0.45  0.348 0.278]\n",
      " [1.499 1.553 0.999 0.516 0.298 0.31 ]\n",
      " [1.373 1.454 0.987 0.495 0.261 0.265]\n",
      " [1.356 1.504 0.986 0.473 0.16  0.21 ]\n",
      " [1.433 1.457 0.874 0.454 0.28  0.128]\n",
      " [1.269 1.487 0.92  0.457 0.046 0.036]\n",
      " [1.503 1.31  0.825 0.598 0.262 0.182]\n",
      " [1.3   1.52  0.999 0.564 0.375 0.151]\n",
      " [1.07  1.323 0.861 0.433 0.074 0.073]\n",
      " [1.324 1.472 1.045 0.436 0.111 0.183]\n",
      " [1.368 1.43  0.914 0.351 0.242 0.097]\n",
      " [1.159 1.369 0.92  0.357 0.187 0.056]\n",
      " [0.8   1.269 0.746 0.535 0.175 0.078]\n",
      " [1.403 1.357 0.795 0.439 0.08  0.132]\n",
      " [1.684 1.313 0.871 0.555 0.22  0.167]\n",
      " [1.286 1.484 1.062 0.362 0.153 0.079]\n",
      " [1.149 1.442 0.91  0.516 0.109 0.054]\n",
      " [1.004 1.439 0.802 0.39  0.099 0.086]\n",
      " [1.124 1.465 0.891 0.523 0.127 0.15 ]\n",
      " [1.572 1.463 1.141 0.556 0.271 0.453]\n",
      " [0.794 1.242 0.789 0.43  0.093 0.074]\n",
      " [1.294 1.488 1.039 0.231 0.158 0.03 ]\n",
      " [1.362 1.368 0.871 0.536 0.255 0.11 ]\n",
      " [1.246 1.504 0.881 0.334 0.121 0.014]\n",
      " [1.231 1.477 0.713 0.489 0.185 0.016]\n",
      " [1.206 1.438 0.884 0.483 0.117 0.05 ]\n",
      " [0.745 1.529 0.756 0.631 0.322 0.24 ]\n",
      " [1.238 1.515 0.818 0.291 0.043 0.042]\n",
      " [0.985 1.41  0.841 0.47  0.099 0.034]\n",
      " [1.258 1.523 0.953 0.564 0.144 0.057]\n",
      " [0.694 1.325 0.835 0.435 0.2   0.127]\n",
      " [0.882 1.232 0.758 0.489 0.262 0.006]\n",
      " [1.092 1.432 0.881 0.471 0.066 0.05 ]\n",
      " [1.162 1.232 0.825 0.462 0.083 0.005]\n",
      " [1.263 1.223 1.042 0.406 0.19  0.041]\n",
      " [0.912 1.312 0.868 0.498 0.126 0.087]\n",
      " [1.5   1.319 0.808 0.493 0.142 0.097]\n",
      " [1.05  1.409 0.828 0.557 0.359 0.028]\n",
      " [1.187 1.465 0.812 0.264 0.075 0.064]\n",
      " [1.301 1.219 1.036 0.159 0.175 0.056]\n",
      " [1.237 1.528 0.874 0.495 0.103 0.161]\n",
      " [0.831 1.478 0.831 0.49  0.107 0.028]\n",
      " [1.12  1.402 0.798 0.498 0.215 0.06 ]\n",
      " [1.327 1.419 1.088 0.445 0.069 0.14 ]\n",
      " [0.642 1.236 0.828 0.507 0.246 0.078]\n",
      " [1.173 1.508 0.729 0.41  0.146 0.096]\n",
      " [0.776 1.209 0.706 0.511 0.137 0.064]\n",
      " [1.201 1.41  0.828 0.199 0.081 0.02 ]\n",
      " [0.855 1.475 0.777 0.514 0.184 0.08 ]\n",
      " [1.263 1.252 1.042 0.417 0.191 0.162]\n",
      " [0.96  1.274 0.854 0.455 0.083 0.027]\n",
      " [1.221 1.431 0.999 0.508 0.047 0.025]\n",
      " [0.677 0.886 0.535 0.313 0.22  0.098]\n",
      " [1.183 1.452 0.726 0.334 0.082 0.031]\n",
      " [0.807 1.293 0.657 0.558 0.117 0.107]\n",
      " [1.004 1.383 0.854 0.282 0.137 0.039]\n",
      " [0.685 1.328 0.739 0.245 0.181 0.   ]\n",
      " [1.044 1.303 0.673 0.416 0.133 0.152]\n",
      " [1.051 1.361 0.871 0.197 0.142 0.08 ]\n",
      " [0.493 1.098 0.718 0.389 0.23  0.144]\n",
      " [1.155 1.266 0.914 0.296 0.119 0.022]\n",
      " [1.438 1.277 1.122 0.44  0.258 0.287]\n",
      " [1.015 1.401 0.779 0.497 0.113 0.101]\n",
      " [0.945 1.212 0.845 0.212 0.263 0.006]\n",
      " [1.183 1.36  0.808 0.195 0.083 0.106]\n",
      " [1.221 1.171 0.828 0.508 0.26  0.024]\n",
      " [1.067 1.465 0.789 0.235 0.094 0.142]\n",
      " [1.181 1.156 0.999 0.067 0.    0.034]\n",
      " [0.948 1.531 0.667 0.317 0.235 0.038]\n",
      " [0.983 1.294 0.838 0.345 0.185 0.034]\n",
      " [0.696 1.111 0.245 0.426 0.215 0.041]\n",
      " [0.551 1.438 0.723 0.508 0.3   0.023]\n",
      " [1.052 1.538 0.657 0.394 0.244 0.028]\n",
      " [1.002 1.16  0.785 0.086 0.073 0.114]\n",
      " [0.801 0.782 0.782 0.418 0.036 0.076]\n",
      " [1.043 1.147 0.769 0.351 0.035 0.182]\n",
      " [0.987 1.224 0.815 0.216 0.166 0.027]\n",
      " [0.931 1.203 0.66  0.491 0.498 0.028]\n",
      " [1.029 1.125 0.893 0.521 0.058 0.1  ]\n",
      " [0.741 1.346 0.851 0.543 0.147 0.073]\n",
      " [0.813 1.321 0.604 0.457 0.37  0.167]\n",
      " [0.549 0.91  0.331 0.381 0.187 0.037]\n",
      " [1.092 1.513 0.815 0.311 0.081 0.004]\n",
      " [0.611 0.868 0.486 0.381 0.245 0.04 ]\n",
      " [0.569 0.808 0.232 0.352 0.154 0.09 ]\n",
      " [0.446 1.226 0.677 0.439 0.285 0.089]\n",
      " [0.837 1.225 0.815 0.383 0.11  0.13 ]\n",
      " [0.393 0.437 0.397 0.349 0.175 0.082]\n",
      " [0.673 0.799 0.508 0.372 0.105 0.093]\n",
      " [1.057 1.183 0.571 0.295 0.043 0.055]\n",
      " [0.764 1.03  0.551 0.547 0.266 0.164]\n",
      " [0.96  1.351 0.469 0.389 0.13  0.055]\n",
      " [0.947 0.848 0.874 0.383 0.178 0.027]\n",
      " [0.96  1.427 0.805 0.154 0.064 0.047]\n",
      " [0.574 1.122 0.637 0.609 0.232 0.062]\n",
      " [0.657 1.247 0.672 0.225 0.103 0.066]\n",
      " [0.45  1.134 0.571 0.292 0.153 0.072]\n",
      " [0.    0.698 0.268 0.559 0.243 0.27 ]\n",
      " [0.879 1.313 0.477 0.401 0.07  0.056]\n",
      " [0.138 0.774 0.366 0.318 0.188 0.102]\n",
      " [0.331 1.056 0.38  0.255 0.177 0.113]\n",
      " [0.85  1.055 0.815 0.283 0.095 0.064]\n",
      " [1.1   0.842 0.785 0.305 0.27  0.125]\n",
      " [0.38  0.829 0.375 0.332 0.207 0.086]\n",
      " [0.886 0.666 0.752 0.346 0.043 0.164]\n",
      " [0.308 0.939 0.428 0.382 0.269 0.167]\n",
      " [0.512 0.983 0.581 0.431 0.372 0.053]\n",
      " [0.57  1.167 0.489 0.066 0.106 0.088]\n",
      " [0.204 0.986 0.39  0.494 0.197 0.138]\n",
      " [0.921 1.    0.815 0.167 0.059 0.055]\n",
      " [0.562 0.928 0.723 0.527 0.166 0.143]\n",
      " [1.043 0.98  0.574 0.241 0.148 0.089]\n",
      " [0.094 1.125 0.357 0.269 0.212 0.053]\n",
      " [0.385 1.105 0.308 0.327 0.153 0.052]\n",
      " [0.268 0.841 0.242 0.309 0.252 0.045]\n",
      " [0.949 1.265 0.831 0.47  0.244 0.047]\n",
      " [0.71  1.181 0.555 0.525 0.566 0.172]\n",
      " [0.35  0.766 0.192 0.174 0.198 0.078]\n",
      " [0.82  1.39  0.739 0.178 0.187 0.01 ]\n",
      " [0.336 1.033 0.532 0.344 0.209 0.1  ]\n",
      " [0.811 1.149 0.    0.313 0.074 0.135]\n",
      " [0.332 1.069 0.443 0.356 0.252 0.06 ]\n",
      " [0.913 1.039 0.644 0.241 0.076 0.067]\n",
      " [0.578 1.058 0.426 0.431 0.247 0.087]\n",
      " [0.275 0.572 0.41  0.293 0.177 0.085]\n",
      " [0.755 0.765 0.588 0.498 0.2   0.085]\n",
      " [0.073 0.922 0.443 0.37  0.233 0.033]\n",
      " [0.274 0.757 0.505 0.142 0.275 0.078]\n",
      " [0.274 0.916 0.555 0.148 0.169 0.041]\n",
      " [0.489 1.169 0.168 0.359 0.107 0.093]\n",
      " [0.046 0.447 0.38  0.22  0.176 0.18 ]\n",
      " [0.366 1.114 0.433 0.361 0.151 0.089]\n",
      " [0.323 0.688 0.449 0.026 0.419 0.11 ]\n",
      " [1.041 1.145 0.538 0.455 0.025 0.1  ]\n",
      " [0.619 0.378 0.44  0.013 0.331 0.141]\n",
      " [0.191 0.56  0.495 0.443 0.218 0.089]\n",
      " [0.287 1.163 0.463 0.143 0.108 0.077]\n",
      " [0.359 0.711 0.614 0.555 0.217 0.411]\n",
      " [0.476 0.885 0.499 0.417 0.276 0.147]\n",
      " [0.35  0.517 0.361 0.    0.158 0.025]\n",
      " [0.026 0.    0.105 0.225 0.235 0.035]\n",
      " [0.306 0.575 0.295 0.01  0.202 0.091]]\n",
      "[7.769 7.6   7.554 7.494 7.488 7.48  7.343 7.307 7.278 7.246 7.228 7.167\n",
      " 7.139 7.09  7.054 7.021 6.985 6.923 6.892 6.852 6.825 6.726 6.595 6.592\n",
      " 6.446 6.444 6.436 6.375 6.374 6.354 6.321 6.3   6.293 6.262 6.253 6.223\n",
      " 6.199 6.198 6.192 6.182 6.174 6.149 6.125 6.118 6.105 6.1   6.086 6.07\n",
      " 6.046 6.028 6.021 6.008 5.94  5.895 5.893 5.89  5.888 5.886 5.86  5.809\n",
      " 5.779 5.758 5.743 5.718 5.697 5.693 5.653 5.648 5.631 5.603 5.529 5.525\n",
      " 5.523 5.467 5.432 5.43  5.425 5.386 5.373 5.339 5.323 5.287 5.285 5.274\n",
      " 5.265 5.261 5.247 5.211 5.208 5.208 5.197 5.192 5.191 5.175 5.082 5.044\n",
      " 5.011 4.996 4.944 4.913 4.906 4.883 4.812 4.799 4.796 4.722 4.719 4.707\n",
      " 4.7   4.696 4.681 4.668 4.639 4.628 4.587 4.559 4.548 4.534 4.519 4.516\n",
      " 4.509 4.49  4.466 4.461 4.456 4.437 4.418 4.39  4.374 4.366 4.36  4.35\n",
      " 4.332 4.286 4.212 4.189 4.166 4.107 4.085 4.015 3.975 3.973 3.933 3.802\n",
      " 3.775 3.663 3.597 3.488 3.462 3.41  3.38  3.334 3.231 3.203 3.083 2.853]\n"
     ]
    }
   ],
   "source": [
    "X = data.values\n",
    "y = df.iloc[:, 2].values\n",
    "print(X)\n",
    "print(y)"
   ]
  },
  {
   "cell_type": "code",
<<<<<<< HEAD
   "execution_count": 15,
=======
   "execution_count": 44,
>>>>>>> eric
   "id": "cheap-gregory",
   "metadata": {},
   "outputs": [],
   "source": [
    "X_train, X_test, y_train, y_test = train_test_split(X, y, test_size=0.8, random_state=0)"
   ]
  },
  {
   "cell_type": "code",
<<<<<<< HEAD
   "execution_count": 16,
=======
   "execution_count": 45,
>>>>>>> eric
   "id": "excessive-division",
   "metadata": {},
   "outputs": [
    {
     "data": {
      "text/plain": [
       "LinearRegression()"
      ]
     },
<<<<<<< HEAD
     "execution_count": 16,
=======
     "execution_count": 45,
>>>>>>> eric
     "metadata": {},
     "output_type": "execute_result"
    }
   ],
   "source": [
    "classifier = LinearRegression()\n",
    "classifier.fit(X_train, y_train)"
   ]
  },
  {
   "cell_type": "code",
<<<<<<< HEAD
   "execution_count": 17,
=======
   "execution_count": 46,
>>>>>>> eric
   "id": "orange-terry",
   "metadata": {},
   "outputs": [
    {
     "name": "stdout",
     "output_type": "stream",
     "text": [
      "1.605411154808226\n"
     ]
    }
   ],
   "source": [
    "print(classifier.intercept_)"
   ]
  },
  {
   "cell_type": "code",
<<<<<<< HEAD
   "execution_count": 18,
=======
   "execution_count": 47,
>>>>>>> eric
   "id": "faced-peeing",
   "metadata": {},
   "outputs": [
    {
     "name": "stdout",
     "output_type": "stream",
     "text": [
      "[ 0.5037275   1.34266508  1.79008132  1.12968433  0.04479695 -1.2880195 ]\n"
     ]
    }
   ],
   "source": [
    "print(classifier.coef_)"
   ]
  },
  {
   "cell_type": "code",
<<<<<<< HEAD
   "execution_count": 19,
=======
   "execution_count": 48,
>>>>>>> eric
   "id": "small-paste",
   "metadata": {},
   "outputs": [
    {
     "data": {
      "text/plain": [
       "array([5.55939087, 6.20108208, 6.19418827, 5.04898578, 6.13307794,\n",
       "       6.37512198, 5.61716816, 5.56228957, 4.46558105, 5.80505528,\n",
       "       5.42160012, 6.1175792 , 5.15981621, 4.01596708, 5.97542027,\n",
       "       5.0165311 , 6.46084422, 4.47363167, 5.56554078, 3.60519155,\n",
       "       4.36055618, 6.44939741, 4.52749255, 5.8720528 , 3.31694711,\n",
       "       4.22079808, 5.66564047, 5.89328118, 5.69230792, 5.18755266,\n",
       "       6.24563489, 6.36001684, 5.40422291, 4.33846567, 5.86044837,\n",
       "       5.60905487, 3.39726469, 4.23173091, 5.6951494 , 5.88674861,\n",
       "       4.9873819 , 3.4753189 , 5.99565843, 6.2086001 , 5.78840833,\n",
       "       6.26753803, 5.36564771, 5.38435582, 6.57338241, 4.088764  ,\n",
       "       6.56010238, 4.33095006, 6.50007619, 3.09697042, 5.75082264,\n",
       "       4.20751352, 4.01260718, 6.05887583, 4.63836753, 5.21107587,\n",
       "       3.73608984, 4.08742973, 3.25886219, 4.87754916, 2.02609219,\n",
       "       4.65849004, 6.01672101, 5.83523796, 5.81122231, 3.68083022,\n",
       "       5.4008663 , 5.77126423, 5.83634733, 6.16331758, 6.40916306,\n",
       "       4.99138477, 4.62079152, 6.05109042, 6.43092935, 5.56120753,\n",
       "       5.84304926, 5.8286669 , 6.84918189, 2.96279423, 5.79639635,\n",
       "       6.28678455, 5.42185564, 4.30073767, 4.32434439, 5.19141859,\n",
       "       6.36892611, 3.60560154, 6.29069767, 4.33713897, 5.41198057,\n",
       "       4.38313191, 6.12587657, 6.30192289, 4.11931342, 6.45218556,\n",
       "       6.00401751, 6.47389202, 6.34897342, 4.04743579, 2.93355612,\n",
       "       5.99179277, 5.11690796, 6.40027122, 3.73967987, 6.34387822,\n",
       "       4.77815693, 6.02503878, 6.4850663 , 5.8673238 , 3.73518797,\n",
       "       4.84732115, 6.35018981, 5.47995192, 6.19749923, 6.01829933,\n",
       "       4.02068255, 6.19178298, 6.34440909, 6.38119161, 4.8908957 ])"
      ]
     },
<<<<<<< HEAD
     "execution_count": 19,
=======
     "execution_count": 48,
>>>>>>> eric
     "metadata": {},
     "output_type": "execute_result"
    }
   ],
   "source": [
    "predictions = classifier.predict(X_test)\n",
    "predictions"
   ]
  },
  {
   "cell_type": "code",
<<<<<<< HEAD
   "execution_count": 20,
=======
   "execution_count": 49,
>>>>>>> eric
   "id": "environmental-jefferson",
   "metadata": {},
   "outputs": [
    {
     "data": {
      "text/html": [
       "<div>\n",
       "<style scoped>\n",
       "    .dataframe tbody tr th:only-of-type {\n",
       "        vertical-align: middle;\n",
       "    }\n",
       "\n",
       "    .dataframe tbody tr th {\n",
       "        vertical-align: top;\n",
       "    }\n",
       "\n",
       "    .dataframe thead th {\n",
       "        text-align: right;\n",
       "    }\n",
       "</style>\n",
       "<table border=\"1\" class=\"dataframe\">\n",
       "  <thead>\n",
       "    <tr style=\"text-align: right;\">\n",
       "      <th></th>\n",
       "      <th>Actual</th>\n",
       "      <th>Prediction</th>\n",
       "    </tr>\n",
       "  </thead>\n",
       "  <tbody>\n",
       "    <tr>\n",
       "      <th>0</th>\n",
       "      <td>6.436</td>\n",
       "      <td>5.559391</td>\n",
       "    </tr>\n",
       "    <tr>\n",
       "      <th>1</th>\n",
       "      <td>5.893</td>\n",
       "      <td>6.201082</td>\n",
       "    </tr>\n",
       "    <tr>\n",
       "      <th>2</th>\n",
       "      <td>6.198</td>\n",
       "      <td>6.194188</td>\n",
       "    </tr>\n",
       "    <tr>\n",
       "      <th>3</th>\n",
       "      <td>4.639</td>\n",
       "      <td>5.048986</td>\n",
       "    </tr>\n",
       "    <tr>\n",
       "      <th>4</th>\n",
       "      <td>6.446</td>\n",
       "      <td>6.133078</td>\n",
       "    </tr>\n",
       "    <tr>\n",
       "      <th>...</th>\n",
       "      <td>...</td>\n",
       "      <td>...</td>\n",
       "    </tr>\n",
       "    <tr>\n",
       "      <th>120</th>\n",
       "      <td>4.587</td>\n",
       "      <td>4.020683</td>\n",
       "    </tr>\n",
       "    <tr>\n",
       "      <th>121</th>\n",
       "      <td>5.430</td>\n",
       "      <td>6.191783</td>\n",
       "    </tr>\n",
       "    <tr>\n",
       "      <th>122</th>\n",
       "      <td>6.223</td>\n",
       "      <td>6.344409</td>\n",
       "    </tr>\n",
       "    <tr>\n",
       "      <th>123</th>\n",
       "      <td>6.592</td>\n",
       "      <td>6.381192</td>\n",
       "    </tr>\n",
       "    <tr>\n",
       "      <th>124</th>\n",
       "      <td>4.548</td>\n",
       "      <td>4.890896</td>\n",
       "    </tr>\n",
       "  </tbody>\n",
       "</table>\n",
       "<p>125 rows × 2 columns</p>\n",
       "</div>"
      ],
      "text/plain": [
       "     Actual  Prediction\n",
       "0     6.436    5.559391\n",
       "1     5.893    6.201082\n",
       "2     6.198    6.194188\n",
       "3     4.639    5.048986\n",
       "4     6.446    6.133078\n",
       "..      ...         ...\n",
       "120   4.587    4.020683\n",
       "121   5.430    6.191783\n",
       "122   6.223    6.344409\n",
       "123   6.592    6.381192\n",
       "124   4.548    4.890896\n",
       "\n",
       "[125 rows x 2 columns]"
      ]
     },
<<<<<<< HEAD
     "execution_count": 20,
=======
     "execution_count": 49,
>>>>>>> eric
     "metadata": {},
     "output_type": "execute_result"
    }
   ],
   "source": [
    "Hdf = pd.DataFrame({\"Actual\": y_test, \"Prediction\":predictions})\n",
    "Hdf"
   ]
  },
  {
   "cell_type": "code",
<<<<<<< HEAD
   "execution_count": 21,
=======
   "execution_count": 50,
>>>>>>> eric
   "id": "alert-printing",
   "metadata": {},
   "outputs": [
    {
     "data": {
      "text/html": [
       "<div>\n",
       "<style scoped>\n",
       "    .dataframe tbody tr th:only-of-type {\n",
       "        vertical-align: middle;\n",
       "    }\n",
       "\n",
       "    .dataframe tbody tr th {\n",
       "        vertical-align: top;\n",
       "    }\n",
       "\n",
       "    .dataframe thead th {\n",
       "        text-align: right;\n",
       "    }\n",
       "</style>\n",
       "<table border=\"1\" class=\"dataframe\">\n",
       "  <thead>\n",
       "    <tr style=\"text-align: right;\">\n",
       "      <th></th>\n",
       "      <th>GDP per capita</th>\n",
       "      <th>Social support</th>\n",
       "      <th>Healthy life expectancy</th>\n",
       "      <th>Freedom to make life choices</th>\n",
       "      <th>Generosity</th>\n",
       "      <th>Perceptions of corruption</th>\n",
       "    </tr>\n",
       "  </thead>\n",
       "  <tbody>\n",
       "    <tr>\n",
       "      <th>0</th>\n",
       "      <td>1.340</td>\n",
       "      <td>1.587</td>\n",
       "      <td>0.986</td>\n",
       "      <td>0.596</td>\n",
       "      <td>0.153</td>\n",
       "      <td>0.393</td>\n",
       "    </tr>\n",
       "    <tr>\n",
       "      <th>1</th>\n",
       "      <td>1.383</td>\n",
       "      <td>1.573</td>\n",
       "      <td>0.996</td>\n",
       "      <td>0.592</td>\n",
       "      <td>0.252</td>\n",
       "      <td>0.410</td>\n",
       "    </tr>\n",
       "    <tr>\n",
       "      <th>2</th>\n",
       "      <td>1.488</td>\n",
       "      <td>1.582</td>\n",
       "      <td>1.028</td>\n",
       "      <td>0.603</td>\n",
       "      <td>0.271</td>\n",
       "      <td>0.341</td>\n",
       "    </tr>\n",
       "    <tr>\n",
       "      <th>3</th>\n",
       "      <td>1.380</td>\n",
       "      <td>1.624</td>\n",
       "      <td>1.026</td>\n",
       "      <td>0.591</td>\n",
       "      <td>0.354</td>\n",
       "      <td>0.118</td>\n",
       "    </tr>\n",
       "    <tr>\n",
       "      <th>4</th>\n",
       "      <td>1.396</td>\n",
       "      <td>1.522</td>\n",
       "      <td>0.999</td>\n",
       "      <td>0.557</td>\n",
       "      <td>0.322</td>\n",
       "      <td>0.298</td>\n",
       "    </tr>\n",
       "  </tbody>\n",
       "</table>\n",
       "</div>"
      ],
      "text/plain": [
       "   GDP per capita  Social support  Healthy life expectancy  \\\n",
       "0           1.340           1.587                    0.986   \n",
       "1           1.383           1.573                    0.996   \n",
       "2           1.488           1.582                    1.028   \n",
       "3           1.380           1.624                    1.026   \n",
       "4           1.396           1.522                    0.999   \n",
       "\n",
       "   Freedom to make life choices  Generosity  Perceptions of corruption  \n",
       "0                         0.596       0.153                      0.393  \n",
       "1                         0.592       0.252                      0.410  \n",
       "2                         0.603       0.271                      0.341  \n",
       "3                         0.591       0.354                      0.118  \n",
       "4                         0.557       0.322                      0.298  "
      ]
     },
<<<<<<< HEAD
     "execution_count": 21,
=======
     "execution_count": 50,
>>>>>>> eric
     "metadata": {},
     "output_type": "execute_result"
    }
   ],
   "source": [
    "feature_names = data.columns\n",
    "data.head()"
   ]
  },
  {
   "cell_type": "code",
<<<<<<< HEAD
   "execution_count": 22,
=======
   "execution_count": 51,
>>>>>>> eric
   "id": "domestic-daughter",
   "metadata": {},
   "outputs": [],
   "source": [
    "target = df[\"Score\"].astype(int)"
   ]
  },
  {
   "cell_type": "code",
<<<<<<< HEAD
   "execution_count": 23,
=======
   "execution_count": 52,
>>>>>>> eric
   "id": "unlike-postcard",
   "metadata": {},
   "outputs": [],
   "source": [
    "\n",
    "X_train, X_test, y_train, y_test = train_test_split(data, target, random_state=30)"
   ]
  },
  {
   "cell_type": "code",
<<<<<<< HEAD
   "execution_count": 24,
=======
   "execution_count": 53,
>>>>>>> eric
   "id": "billion-broad",
   "metadata": {},
   "outputs": [
    {
     "data": {
      "text/plain": [
       "0.5384615384615384"
      ]
     },
<<<<<<< HEAD
     "execution_count": 24,
=======
     "execution_count": 53,
>>>>>>> eric
     "metadata": {},
     "output_type": "execute_result"
    }
   ],
   "source": [
    "clf = tree.DecisionTreeClassifier()\n",
    "clf = clf.fit(X_train, y_train)\n",
    "clf.score(X_test, y_test)"
   ]
  },
  {
   "cell_type": "code",
<<<<<<< HEAD
   "execution_count": 25,
=======
   "execution_count": 54,
>>>>>>> eric
   "id": "proof-tiffany",
   "metadata": {},
   "outputs": [
    {
     "data": {
      "text/plain": [
<<<<<<< HEAD
       "0.6666666666666666"
      ]
     },
     "execution_count": 25,
=======
       "0.5897435897435898"
      ]
     },
     "execution_count": 54,
>>>>>>> eric
     "metadata": {},
     "output_type": "execute_result"
    }
   ],
   "source": [
    "rf = RandomForestClassifier(n_estimators=10)\n",
    "rf = rf.fit(X_train, y_train)\n",
    "rf.score(X_test, y_test)"
   ]
  },
  {
   "cell_type": "code",
<<<<<<< HEAD
   "execution_count": 26,
=======
   "execution_count": 55,
>>>>>>> eric
   "id": "guided-sound",
   "metadata": {},
   "outputs": [
    {
     "data": {
      "text/plain": [
<<<<<<< HEAD
       "[(0.24597671948244, 'Social support'),\n",
       " (0.2132655405479851, 'GDP per capita'),\n",
       " (0.1784117152396401, 'Healthy life expectancy'),\n",
       " (0.15289441969740475, 'Freedom to make life choices'),\n",
       " (0.13508365386970617, 'Perceptions of corruption'),\n",
       " (0.07436795116282406, 'Generosity')]"
      ]
     },
     "execution_count": 26,
=======
       "[(0.223301245441648, 'Social support'),\n",
       " (0.20173759967750726, 'Healthy life expectancy'),\n",
       " (0.18217346300872428, 'GDP per capita'),\n",
       " (0.16928333016398656, 'Perceptions of corruption'),\n",
       " (0.1504598254335337, 'Freedom to make life choices'),\n",
       " (0.07304453627460028, 'Generosity')]"
      ]
     },
     "execution_count": 55,
>>>>>>> eric
     "metadata": {},
     "output_type": "execute_result"
    }
   ],
   "source": [
    "happyRF = sorted(zip(rf.feature_importances_, feature_names), reverse=True)\n",
    "happyRF"
   ]
  },
  {
   "cell_type": "code",
<<<<<<< HEAD
   "execution_count": 27,
=======
   "execution_count": 56,
   "id": "automotive-stranger",
   "metadata": {},
   "outputs": [
    {
     "ename": "SyntaxError",
     "evalue": "invalid syntax (<ipython-input-56-02f53e251346>, line 1)",
     "output_type": "error",
     "traceback": [
      "\u001b[1;36m  File \u001b[1;32m\"<ipython-input-56-02f53e251346>\"\u001b[1;36m, line \u001b[1;32m1\u001b[0m\n\u001b[1;33m    happyRF =\u001b[0m\n\u001b[1;37m              ^\u001b[0m\n\u001b[1;31mSyntaxError\u001b[0m\u001b[1;31m:\u001b[0m invalid syntax\n"
     ]
    }
   ],
   "source": [
    "happyRF = "
   ]
  },
  {
   "cell_type": "code",
   "execution_count": 57,
>>>>>>> eric
   "id": "brutal-overhead",
   "metadata": {},
   "outputs": [
    {
     "data": {
      "text/html": [
       "<div>\n",
       "<style scoped>\n",
       "    .dataframe tbody tr th:only-of-type {\n",
       "        vertical-align: middle;\n",
       "    }\n",
       "\n",
       "    .dataframe tbody tr th {\n",
       "        vertical-align: top;\n",
       "    }\n",
       "\n",
       "    .dataframe thead th {\n",
       "        text-align: right;\n",
       "    }\n",
       "</style>\n",
       "<table border=\"1\" class=\"dataframe\">\n",
       "  <thead>\n",
       "    <tr style=\"text-align: right;\">\n",
       "      <th></th>\n",
       "      <th>Score</th>\n",
       "      <th>GDP per capita</th>\n",
       "      <th>Social support</th>\n",
       "      <th>Healthy life expectancy</th>\n",
       "      <th>Freedom to make life choices</th>\n",
       "      <th>Generosity</th>\n",
       "      <th>Perceptions of corruption</th>\n",
       "    </tr>\n",
       "  </thead>\n",
       "  <tbody>\n",
       "    <tr>\n",
       "      <th>Score</th>\n",
       "      <td>1.000000</td>\n",
       "      <td>0.793883</td>\n",
       "      <td>0.777058</td>\n",
       "      <td>0.779883</td>\n",
       "      <td>0.566742</td>\n",
       "      <td>0.075824</td>\n",
       "      <td>0.385613</td>\n",
       "    </tr>\n",
       "    <tr>\n",
       "      <th>GDP per capita</th>\n",
       "      <td>0.793883</td>\n",
       "      <td>1.000000</td>\n",
       "      <td>0.754906</td>\n",
       "      <td>0.835462</td>\n",
       "      <td>0.379079</td>\n",
       "      <td>-0.079662</td>\n",
       "      <td>0.298920</td>\n",
       "    </tr>\n",
       "    <tr>\n",
       "      <th>Social support</th>\n",
       "      <td>0.777058</td>\n",
       "      <td>0.754906</td>\n",
       "      <td>1.000000</td>\n",
       "      <td>0.719009</td>\n",
       "      <td>0.447333</td>\n",
       "      <td>-0.048126</td>\n",
       "      <td>0.181899</td>\n",
       "    </tr>\n",
       "    <tr>\n",
       "      <th>Healthy life expectancy</th>\n",
       "      <td>0.779883</td>\n",
       "      <td>0.835462</td>\n",
       "      <td>0.719009</td>\n",
       "      <td>1.000000</td>\n",
       "      <td>0.390395</td>\n",
       "      <td>-0.029511</td>\n",
       "      <td>0.295283</td>\n",
       "    </tr>\n",
       "    <tr>\n",
       "      <th>Freedom to make life choices</th>\n",
       "      <td>0.566742</td>\n",
       "      <td>0.379079</td>\n",
       "      <td>0.447333</td>\n",
       "      <td>0.390395</td>\n",
       "      <td>1.000000</td>\n",
       "      <td>0.269742</td>\n",
       "      <td>0.438843</td>\n",
       "    </tr>\n",
       "    <tr>\n",
       "      <th>Generosity</th>\n",
       "      <td>0.075824</td>\n",
       "      <td>-0.079662</td>\n",
       "      <td>-0.048126</td>\n",
       "      <td>-0.029511</td>\n",
       "      <td>0.269742</td>\n",
       "      <td>1.000000</td>\n",
       "      <td>0.326538</td>\n",
       "    </tr>\n",
       "    <tr>\n",
       "      <th>Perceptions of corruption</th>\n",
       "      <td>0.385613</td>\n",
       "      <td>0.298920</td>\n",
       "      <td>0.181899</td>\n",
       "      <td>0.295283</td>\n",
       "      <td>0.438843</td>\n",
       "      <td>0.326538</td>\n",
       "      <td>1.000000</td>\n",
       "    </tr>\n",
       "  </tbody>\n",
       "</table>\n",
       "</div>"
      ],
      "text/plain": [
       "                                 Score  GDP per capita  Social support  \\\n",
       "Score                         1.000000        0.793883        0.777058   \n",
       "GDP per capita                0.793883        1.000000        0.754906   \n",
       "Social support                0.777058        0.754906        1.000000   \n",
       "Healthy life expectancy       0.779883        0.835462        0.719009   \n",
       "Freedom to make life choices  0.566742        0.379079        0.447333   \n",
       "Generosity                    0.075824       -0.079662       -0.048126   \n",
       "Perceptions of corruption     0.385613        0.298920        0.181899   \n",
       "\n",
       "                              Healthy life expectancy  \\\n",
       "Score                                        0.779883   \n",
       "GDP per capita                               0.835462   \n",
       "Social support                               0.719009   \n",
       "Healthy life expectancy                      1.000000   \n",
       "Freedom to make life choices                 0.390395   \n",
       "Generosity                                  -0.029511   \n",
       "Perceptions of corruption                    0.295283   \n",
       "\n",
       "                              Freedom to make life choices  Generosity  \\\n",
       "Score                                             0.566742    0.075824   \n",
       "GDP per capita                                    0.379079   -0.079662   \n",
       "Social support                                    0.447333   -0.048126   \n",
       "Healthy life expectancy                           0.390395   -0.029511   \n",
       "Freedom to make life choices                      1.000000    0.269742   \n",
       "Generosity                                        0.269742    1.000000   \n",
       "Perceptions of corruption                         0.438843    0.326538   \n",
       "\n",
       "                              Perceptions of corruption  \n",
       "Score                                          0.385613  \n",
       "GDP per capita                                 0.298920  \n",
       "Social support                                 0.181899  \n",
       "Healthy life expectancy                        0.295283  \n",
       "Freedom to make life choices                   0.438843  \n",
       "Generosity                                     0.326538  \n",
       "Perceptions of corruption                      1.000000  "
      ]
     },
<<<<<<< HEAD
     "execution_count": 27,
=======
     "execution_count": 57,
>>>>>>> eric
     "metadata": {},
     "output_type": "execute_result"
    }
   ],
   "source": [
    "d1.corr()"
   ]
  },
  {
   "cell_type": "code",
<<<<<<< HEAD
   "execution_count": 28,
=======
   "execution_count": 67,
>>>>>>> eric
   "id": "duplicate-bottom",
   "metadata": {},
   "outputs": [
    {
     "data": {
      "text/plain": [
       "Text(0.5, 1.0, 'Correlation Map')"
      ]
     },
<<<<<<< HEAD
     "execution_count": 28,
=======
     "execution_count": 67,
>>>>>>> eric
     "metadata": {},
     "output_type": "execute_result"
    },
    {
     "data": {
      "image/png": "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\n",
      "text/plain": [
       "<Figure size 432x288 with 2 Axes>"
      ]
     },
     "metadata": {},
     "output_type": "display_data"
    }
   ],
   "source": [
    "heatMap = sns.heatmap(d1.corr(), cmap=\"coolwarm\", annot=True)\n",
<<<<<<< HEAD
=======
    "heatMap.tick_params(axis=\"x\", colors=\"white\")\n",
    "heatMap.tick_params(axis=\"y\", colors=\"white\")\n",
>>>>>>> eric
    "plt.savefig(\"Corr.png\")\n",
    "\n",
    "plt.title(\"Correlation Map\", weight=\"bold\")"
   ]
  },
  {
   "cell_type": "code",
   "execution_count": null,
   "id": "coordinated-landing",
   "metadata": {},
   "outputs": [],
   "source": []
  }
 ],
 "metadata": {
  "kernelspec": {
   "display_name": "Python 3",
   "language": "python",
   "name": "python3"
  },
  "language_info": {
   "codemirror_mode": {
    "name": "ipython",
    "version": 3
   },
   "file_extension": ".py",
   "mimetype": "text/x-python",
   "name": "python",
   "nbconvert_exporter": "python",
   "pygments_lexer": "ipython3",
   "version": "3.6.12"
  }
 },
 "nbformat": 4,
 "nbformat_minor": 5
}
